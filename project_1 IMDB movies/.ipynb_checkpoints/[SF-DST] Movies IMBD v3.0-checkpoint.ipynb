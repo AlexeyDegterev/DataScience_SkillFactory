{
 "cells": [
  {
   "cell_type": "markdown",
   "metadata": {},
   "source": [
    "# Проект 1. Кто хочет стать миллионером кинопроката"
   ]
  },
  {
   "cell_type": "markdown",
   "metadata": {},
   "source": [
    "Имеется набор данных по фильмам из базы IMDB. По проекту требуется дать ответы на тренировочные вопросы, для отработки навыков владения библиотеками обработки и визуализации данных (pandas, numpy, seaborn, etc)"
   ]
  },
  {
   "cell_type": "code",
   "execution_count": 1,
   "metadata": {
    "_cell_guid": "b1076dfc-b9ad-4769-8c92-a6c4dae69d19",
    "_uuid": "8f2839f25d086af736a60e9eeb907d3b93b6e0e5"
   },
   "outputs": [
    {
     "name": "stdout",
     "output_type": "stream",
     "text": [
      "['imbd-sf']\n"
     ]
    }
   ],
   "source": [
    "import numpy as np\n",
    "import pandas as pd\n",
    "import seaborn as sns\n",
    "import matplotlib.pyplot as plt\n",
    "import os\n",
    "from collections import Counter"
   ]
  },
  {
   "cell_type": "code",
   "execution_count": 2,
   "metadata": {},
   "outputs": [],
   "source": [
    "data = pd.read_csv('../input/imbd-sf/data.csv')"
   ]
  },
  {
   "cell_type": "markdown",
   "metadata": {},
   "source": [
    "## Предобработка датасета"
   ]
  },
  {
   "cell_type": "code",
   "execution_count": 4,
   "metadata": {},
   "outputs": [],
   "source": [
    "answer_ls = []  # создадим список с ответами. сюда будем добавлять ответы по мере прохождения теста\n",
    "# сюда можем вписать создание новых колонок в датасете"
   ]
  },
  {
   "cell_type": "code",
   "execution_count": 5,
   "metadata": {},
   "outputs": [
    {
     "name": "stdout",
     "output_type": "stream",
     "text": [
      "<class 'pandas.core.frame.DataFrame'>\n",
      "RangeIndex: 1890 entries, 0 to 1889\n",
      "Data columns (total 16 columns):\n",
      " #   Column                Non-Null Count  Dtype  \n",
      "---  ------                --------------  -----  \n",
      " 0   imdb_id               1890 non-null   object \n",
      " 1   popularity            1890 non-null   float64\n",
      " 2   budget                1890 non-null   int64  \n",
      " 3   revenue               1890 non-null   int64  \n",
      " 4   original_title        1890 non-null   object \n",
      " 5   cast                  1890 non-null   object \n",
      " 6   director              1890 non-null   object \n",
      " 7   tagline               1890 non-null   object \n",
      " 8   overview              1890 non-null   object \n",
      " 9   runtime               1890 non-null   int64  \n",
      " 10  genres                1890 non-null   object \n",
      " 11  production_companies  1890 non-null   object \n",
      " 12  release_date          1890 non-null   object \n",
      " 13  vote_count            1890 non-null   int64  \n",
      " 14  vote_average          1890 non-null   float64\n",
      " 15  release_year          1890 non-null   int64  \n",
      "dtypes: float64(2), int64(5), object(9)\n",
      "memory usage: 169.9+ KB\n"
     ]
    }
   ],
   "source": [
    "data.info()"
   ]
  },
  {
   "cell_type": "markdown",
   "metadata": {},
   "source": [
    "# 1. У какого фильма из списка самый большой бюджет?\n",
    "Варианты ответов:\n",
    "1. The Dark Knight Rises (tt1345836)\n",
    "2. Spider-Man 3 (tt0413300)\n",
    "3. Avengers: Age of Ultron (tt2395427)\n",
    "4. The Warrior's Way\t(tt1032751)\n",
    "5. Pirates of the Caribbean: On Stranger Tides (tt1298650)"
   ]
  },
  {
   "cell_type": "code",
   "execution_count": 6,
   "metadata": {},
   "outputs": [
    {
     "data": {
      "text/html": [
       "<div>\n",
       "<style scoped>\n",
       "    .dataframe tbody tr th:only-of-type {\n",
       "        vertical-align: middle;\n",
       "    }\n",
       "\n",
       "    .dataframe tbody tr th {\n",
       "        vertical-align: top;\n",
       "    }\n",
       "\n",
       "    .dataframe thead th {\n",
       "        text-align: right;\n",
       "    }\n",
       "</style>\n",
       "<table border=\"1\" class=\"dataframe\">\n",
       "  <thead>\n",
       "    <tr style=\"text-align: right;\">\n",
       "      <th></th>\n",
       "      <th>imdb_id</th>\n",
       "      <th>popularity</th>\n",
       "      <th>budget</th>\n",
       "      <th>revenue</th>\n",
       "      <th>original_title</th>\n",
       "      <th>cast</th>\n",
       "      <th>director</th>\n",
       "      <th>tagline</th>\n",
       "      <th>overview</th>\n",
       "      <th>runtime</th>\n",
       "      <th>genres</th>\n",
       "      <th>production_companies</th>\n",
       "      <th>release_date</th>\n",
       "      <th>vote_count</th>\n",
       "      <th>vote_average</th>\n",
       "      <th>release_year</th>\n",
       "    </tr>\n",
       "  </thead>\n",
       "  <tbody>\n",
       "    <tr>\n",
       "      <th>491</th>\n",
       "      <td>tt1032751</td>\n",
       "      <td>0.250540</td>\n",
       "      <td>425000000</td>\n",
       "      <td>11087569</td>\n",
       "      <td>The Warrior's Way</td>\n",
       "      <td>Kate Bosworth|Jang Dong-gun|Geoffrey Rush|Dann...</td>\n",
       "      <td>Sngmoo Lee</td>\n",
       "      <td>Assassin. Hero. Legend.</td>\n",
       "      <td>An Asian assassin (Dong-gun Jang) is forced to...</td>\n",
       "      <td>100</td>\n",
       "      <td>Adventure|Fantasy|Action|Western|Thriller</td>\n",
       "      <td>Boram Entertainment Inc.</td>\n",
       "      <td>12/2/2010</td>\n",
       "      <td>74</td>\n",
       "      <td>6.4</td>\n",
       "      <td>2010</td>\n",
       "    </tr>\n",
       "    <tr>\n",
       "      <th>724</th>\n",
       "      <td>tt1298650</td>\n",
       "      <td>4.955130</td>\n",
       "      <td>380000000</td>\n",
       "      <td>1021683000</td>\n",
       "      <td>Pirates of the Caribbean: On Stranger Tides</td>\n",
       "      <td>Johnny Depp|PenÃ©lope Cruz|Geoffrey Rush|Ian M...</td>\n",
       "      <td>Rob Marshall</td>\n",
       "      <td>Live Forever Or Die Trying.</td>\n",
       "      <td>Captain Jack Sparrow crosses paths with a woma...</td>\n",
       "      <td>136</td>\n",
       "      <td>Adventure|Action|Fantasy</td>\n",
       "      <td>Walt Disney Pictures|Jerry Bruckheimer Films|M...</td>\n",
       "      <td>5/11/2011</td>\n",
       "      <td>3180</td>\n",
       "      <td>6.3</td>\n",
       "      <td>2011</td>\n",
       "    </tr>\n",
       "    <tr>\n",
       "      <th>1670</th>\n",
       "      <td>tt0449088</td>\n",
       "      <td>4.965391</td>\n",
       "      <td>300000000</td>\n",
       "      <td>961000000</td>\n",
       "      <td>Pirates of the Caribbean: At World's End</td>\n",
       "      <td>Johnny Depp|Orlando Bloom|Keira Knightley|Geof...</td>\n",
       "      <td>Gore Verbinski</td>\n",
       "      <td>At the end of the world, the adventure begins.</td>\n",
       "      <td>Captain Barbossa, long believed to be dead, ha...</td>\n",
       "      <td>169</td>\n",
       "      <td>Adventure|Fantasy|Action</td>\n",
       "      <td>Walt Disney Pictures|Jerry Bruckheimer Films|S...</td>\n",
       "      <td>5/19/2007</td>\n",
       "      <td>2626</td>\n",
       "      <td>6.8</td>\n",
       "      <td>2007</td>\n",
       "    </tr>\n",
       "    <tr>\n",
       "      <th>14</th>\n",
       "      <td>tt2395427</td>\n",
       "      <td>5.944927</td>\n",
       "      <td>280000000</td>\n",
       "      <td>1405035767</td>\n",
       "      <td>Avengers: Age of Ultron</td>\n",
       "      <td>Robert Downey Jr.|Chris Hemsworth|Mark Ruffalo...</td>\n",
       "      <td>Joss Whedon</td>\n",
       "      <td>A New Age Has Come.</td>\n",
       "      <td>When Tony Stark tries to jumpstart a dormant p...</td>\n",
       "      <td>141</td>\n",
       "      <td>Action|Adventure|Science Fiction</td>\n",
       "      <td>Marvel Studios|Prime Focus|Revolution Sun Studios</td>\n",
       "      <td>4/22/2015</td>\n",
       "      <td>4304</td>\n",
       "      <td>7.4</td>\n",
       "      <td>2015</td>\n",
       "    </tr>\n",
       "    <tr>\n",
       "      <th>1015</th>\n",
       "      <td>tt0401729</td>\n",
       "      <td>1.588457</td>\n",
       "      <td>260000000</td>\n",
       "      <td>284139100</td>\n",
       "      <td>John Carter</td>\n",
       "      <td>Taylor Kitsch|Lynn Collins|Mark Strong|Willem ...</td>\n",
       "      <td>Andrew Stanton</td>\n",
       "      <td>Lost in Our World. Found in Another.</td>\n",
       "      <td>Civil War vet John Carter is transplanted to M...</td>\n",
       "      <td>132</td>\n",
       "      <td>Action|Adventure|Fantasy|Science Fiction</td>\n",
       "      <td>Walt Disney Pictures</td>\n",
       "      <td>3/7/2012</td>\n",
       "      <td>1479</td>\n",
       "      <td>6.0</td>\n",
       "      <td>2012</td>\n",
       "    </tr>\n",
       "    <tr>\n",
       "      <th>...</th>\n",
       "      <td>...</td>\n",
       "      <td>...</td>\n",
       "      <td>...</td>\n",
       "      <td>...</td>\n",
       "      <td>...</td>\n",
       "      <td>...</td>\n",
       "      <td>...</td>\n",
       "      <td>...</td>\n",
       "      <td>...</td>\n",
       "      <td>...</td>\n",
       "      <td>...</td>\n",
       "      <td>...</td>\n",
       "      <td>...</td>\n",
       "      <td>...</td>\n",
       "      <td>...</td>\n",
       "      <td>...</td>\n",
       "    </tr>\n",
       "    <tr>\n",
       "      <th>886</th>\n",
       "      <td>tt0283111</td>\n",
       "      <td>1.568528</td>\n",
       "      <td>5000000</td>\n",
       "      <td>38275483</td>\n",
       "      <td>National Lampoonâ€™s Van Wilder</td>\n",
       "      <td>Ryan Reynolds|Tara Reid|Tim Matheson|Kal Penn|...</td>\n",
       "      <td>Walt Becker</td>\n",
       "      <td>Don't Graduate. Celebrate.</td>\n",
       "      <td>Van Wilder is an outgoing, and extremely popul...</td>\n",
       "      <td>92</td>\n",
       "      <td>Comedy|Romance</td>\n",
       "      <td>Tapestry Films|Artisan Entertainment</td>\n",
       "      <td>3/29/2002</td>\n",
       "      <td>684</td>\n",
       "      <td>5.9</td>\n",
       "      <td>2002</td>\n",
       "    </tr>\n",
       "    <tr>\n",
       "      <th>893</th>\n",
       "      <td>tt0259446</td>\n",
       "      <td>1.271588</td>\n",
       "      <td>5000000</td>\n",
       "      <td>368744044</td>\n",
       "      <td>My Big Fat Greek Wedding</td>\n",
       "      <td>Nia Vardalos|John Corbett|Lainie Kazan|Michael...</td>\n",
       "      <td>Joel Zwick</td>\n",
       "      <td>Love is here to stay... so is her family.</td>\n",
       "      <td>A young Greek woman falls in love with a non-G...</td>\n",
       "      <td>95</td>\n",
       "      <td>Comedy|Drama|Romance</td>\n",
       "      <td>MPH Entertainment|Playtone Productions|Gold Ci...</td>\n",
       "      <td>2/22/2002</td>\n",
       "      <td>395</td>\n",
       "      <td>6.1</td>\n",
       "      <td>2002</td>\n",
       "    </tr>\n",
       "    <tr>\n",
       "      <th>1072</th>\n",
       "      <td>tt2109184</td>\n",
       "      <td>0.557661</td>\n",
       "      <td>5000000</td>\n",
       "      <td>142817992</td>\n",
       "      <td>Paranormal Activity 4</td>\n",
       "      <td>Katie Featherston|Kathryn Newton|Matt Shively|...</td>\n",
       "      <td>Henry Joost|Ariel Schulman</td>\n",
       "      <td>It's closer than you think</td>\n",
       "      <td>It has been five years since the disappearance...</td>\n",
       "      <td>95</td>\n",
       "      <td>Horror</td>\n",
       "      <td>Paramount Pictures|Blumhouse Productions|Room ...</td>\n",
       "      <td>10/17/2012</td>\n",
       "      <td>352</td>\n",
       "      <td>5.3</td>\n",
       "      <td>2012</td>\n",
       "    </tr>\n",
       "    <tr>\n",
       "      <th>912</th>\n",
       "      <td>tt0322802</td>\n",
       "      <td>0.925495</td>\n",
       "      <td>5000000</td>\n",
       "      <td>64282312</td>\n",
       "      <td>Jackass: The Movie</td>\n",
       "      <td>Johnny Knoxville|Bam Margera|Steve-O|Chris Pon...</td>\n",
       "      <td>Jeff Tremaine</td>\n",
       "      <td>Do not attempt this at home.</td>\n",
       "      <td>Johnny Knoxville and his crazy friends appear ...</td>\n",
       "      <td>87</td>\n",
       "      <td>Comedy</td>\n",
       "      <td>Paramount Pictures</td>\n",
       "      <td>10/21/2002</td>\n",
       "      <td>197</td>\n",
       "      <td>6.2</td>\n",
       "      <td>2002</td>\n",
       "    </tr>\n",
       "    <tr>\n",
       "      <th>1217</th>\n",
       "      <td>tt2101441</td>\n",
       "      <td>1.626627</td>\n",
       "      <td>5000000</td>\n",
       "      <td>31724284</td>\n",
       "      <td>Spring Breakers</td>\n",
       "      <td>James Franco|Selena Gomez|Vanessa Hudgens|Ashl...</td>\n",
       "      <td>Harmony Korine</td>\n",
       "      <td>A little sun can bring out your dark side.</td>\n",
       "      <td>After four college girls rob a restaurant to f...</td>\n",
       "      <td>94</td>\n",
       "      <td>Drama|Crime</td>\n",
       "      <td>RabbitBandini Productions|Division Films|Pop F...</td>\n",
       "      <td>1/24/2013</td>\n",
       "      <td>996</td>\n",
       "      <td>5.0</td>\n",
       "      <td>2013</td>\n",
       "    </tr>\n",
       "  </tbody>\n",
       "</table>\n",
       "<p>1890 rows × 16 columns</p>\n",
       "</div>"
      ],
      "text/plain": [
       "        imdb_id  popularity     budget     revenue  \\\n",
       "491   tt1032751    0.250540  425000000    11087569   \n",
       "724   tt1298650    4.955130  380000000  1021683000   \n",
       "1670  tt0449088    4.965391  300000000   961000000   \n",
       "14    tt2395427    5.944927  280000000  1405035767   \n",
       "1015  tt0401729    1.588457  260000000   284139100   \n",
       "...         ...         ...        ...         ...   \n",
       "886   tt0283111    1.568528    5000000    38275483   \n",
       "893   tt0259446    1.271588    5000000   368744044   \n",
       "1072  tt2109184    0.557661    5000000   142817992   \n",
       "912   tt0322802    0.925495    5000000    64282312   \n",
       "1217  tt2101441    1.626627    5000000    31724284   \n",
       "\n",
       "                                   original_title  \\\n",
       "491                             The Warrior's Way   \n",
       "724   Pirates of the Caribbean: On Stranger Tides   \n",
       "1670     Pirates of the Caribbean: At World's End   \n",
       "14                        Avengers: Age of Ultron   \n",
       "1015                                  John Carter   \n",
       "...                                           ...   \n",
       "886               National Lampoonâ€™s Van Wilder   \n",
       "893                      My Big Fat Greek Wedding   \n",
       "1072                        Paranormal Activity 4   \n",
       "912                            Jackass: The Movie   \n",
       "1217                              Spring Breakers   \n",
       "\n",
       "                                                   cast  \\\n",
       "491   Kate Bosworth|Jang Dong-gun|Geoffrey Rush|Dann...   \n",
       "724   Johnny Depp|PenÃ©lope Cruz|Geoffrey Rush|Ian M...   \n",
       "1670  Johnny Depp|Orlando Bloom|Keira Knightley|Geof...   \n",
       "14    Robert Downey Jr.|Chris Hemsworth|Mark Ruffalo...   \n",
       "1015  Taylor Kitsch|Lynn Collins|Mark Strong|Willem ...   \n",
       "...                                                 ...   \n",
       "886   Ryan Reynolds|Tara Reid|Tim Matheson|Kal Penn|...   \n",
       "893   Nia Vardalos|John Corbett|Lainie Kazan|Michael...   \n",
       "1072  Katie Featherston|Kathryn Newton|Matt Shively|...   \n",
       "912   Johnny Knoxville|Bam Margera|Steve-O|Chris Pon...   \n",
       "1217  James Franco|Selena Gomez|Vanessa Hudgens|Ashl...   \n",
       "\n",
       "                        director  \\\n",
       "491                   Sngmoo Lee   \n",
       "724                 Rob Marshall   \n",
       "1670              Gore Verbinski   \n",
       "14                   Joss Whedon   \n",
       "1015              Andrew Stanton   \n",
       "...                          ...   \n",
       "886                  Walt Becker   \n",
       "893                   Joel Zwick   \n",
       "1072  Henry Joost|Ariel Schulman   \n",
       "912                Jeff Tremaine   \n",
       "1217              Harmony Korine   \n",
       "\n",
       "                                             tagline  \\\n",
       "491                          Assassin. Hero. Legend.   \n",
       "724                      Live Forever Or Die Trying.   \n",
       "1670  At the end of the world, the adventure begins.   \n",
       "14                               A New Age Has Come.   \n",
       "1015            Lost in Our World. Found in Another.   \n",
       "...                                              ...   \n",
       "886                       Don't Graduate. Celebrate.   \n",
       "893        Love is here to stay... so is her family.   \n",
       "1072                      It's closer than you think   \n",
       "912                     Do not attempt this at home.   \n",
       "1217      A little sun can bring out your dark side.   \n",
       "\n",
       "                                               overview  runtime  \\\n",
       "491   An Asian assassin (Dong-gun Jang) is forced to...      100   \n",
       "724   Captain Jack Sparrow crosses paths with a woma...      136   \n",
       "1670  Captain Barbossa, long believed to be dead, ha...      169   \n",
       "14    When Tony Stark tries to jumpstart a dormant p...      141   \n",
       "1015  Civil War vet John Carter is transplanted to M...      132   \n",
       "...                                                 ...      ...   \n",
       "886   Van Wilder is an outgoing, and extremely popul...       92   \n",
       "893   A young Greek woman falls in love with a non-G...       95   \n",
       "1072  It has been five years since the disappearance...       95   \n",
       "912   Johnny Knoxville and his crazy friends appear ...       87   \n",
       "1217  After four college girls rob a restaurant to f...       94   \n",
       "\n",
       "                                         genres  \\\n",
       "491   Adventure|Fantasy|Action|Western|Thriller   \n",
       "724                    Adventure|Action|Fantasy   \n",
       "1670                   Adventure|Fantasy|Action   \n",
       "14             Action|Adventure|Science Fiction   \n",
       "1015   Action|Adventure|Fantasy|Science Fiction   \n",
       "...                                         ...   \n",
       "886                              Comedy|Romance   \n",
       "893                        Comedy|Drama|Romance   \n",
       "1072                                     Horror   \n",
       "912                                      Comedy   \n",
       "1217                                Drama|Crime   \n",
       "\n",
       "                                   production_companies release_date  \\\n",
       "491                            Boram Entertainment Inc.    12/2/2010   \n",
       "724   Walt Disney Pictures|Jerry Bruckheimer Films|M...    5/11/2011   \n",
       "1670  Walt Disney Pictures|Jerry Bruckheimer Films|S...    5/19/2007   \n",
       "14    Marvel Studios|Prime Focus|Revolution Sun Studios    4/22/2015   \n",
       "1015                               Walt Disney Pictures     3/7/2012   \n",
       "...                                                 ...          ...   \n",
       "886                Tapestry Films|Artisan Entertainment    3/29/2002   \n",
       "893   MPH Entertainment|Playtone Productions|Gold Ci...    2/22/2002   \n",
       "1072  Paramount Pictures|Blumhouse Productions|Room ...   10/17/2012   \n",
       "912                                  Paramount Pictures   10/21/2002   \n",
       "1217  RabbitBandini Productions|Division Films|Pop F...    1/24/2013   \n",
       "\n",
       "      vote_count  vote_average  release_year  \n",
       "491           74           6.4          2010  \n",
       "724         3180           6.3          2011  \n",
       "1670        2626           6.8          2007  \n",
       "14          4304           7.4          2015  \n",
       "1015        1479           6.0          2012  \n",
       "...          ...           ...           ...  \n",
       "886          684           5.9          2002  \n",
       "893          395           6.1          2002  \n",
       "1072         352           5.3          2012  \n",
       "912          197           6.2          2002  \n",
       "1217         996           5.0          2013  \n",
       "\n",
       "[1890 rows x 16 columns]"
      ]
     },
     "execution_count": 6,
     "metadata": {},
     "output_type": "execute_result"
    }
   ],
   "source": [
    "data.sort_values(['budget'], ascending=False)"
   ]
  },
  {
   "cell_type": "code",
   "execution_count": 7,
   "metadata": {},
   "outputs": [],
   "source": [
    "# тут вводим ваш ответ и добавлем в его список ответов (сейчас для примера стоит \"1\")\n",
    "answer_ls.append(4)"
   ]
  },
  {
   "cell_type": "markdown",
   "metadata": {},
   "source": [
    "# 2. Какой из фильмов самый длительный (в минутах)\n",
    "1. The Lord of the Rings: The Return of the King\t(tt0167260)\n",
    "2. Gods and Generals\t(tt0279111)\n",
    "3. King Kong\t(tt0360717)\n",
    "4. Pearl Harbor\t(tt0213149)\n",
    "5. Alexander\t(tt0346491)"
   ]
  },
  {
   "cell_type": "code",
   "execution_count": 8,
   "metadata": {},
   "outputs": [
    {
     "data": {
      "text/html": [
       "<div>\n",
       "<style scoped>\n",
       "    .dataframe tbody tr th:only-of-type {\n",
       "        vertical-align: middle;\n",
       "    }\n",
       "\n",
       "    .dataframe tbody tr th {\n",
       "        vertical-align: top;\n",
       "    }\n",
       "\n",
       "    .dataframe thead th {\n",
       "        text-align: right;\n",
       "    }\n",
       "</style>\n",
       "<table border=\"1\" class=\"dataframe\">\n",
       "  <thead>\n",
       "    <tr style=\"text-align: right;\">\n",
       "      <th></th>\n",
       "      <th>imdb_id</th>\n",
       "      <th>popularity</th>\n",
       "      <th>budget</th>\n",
       "      <th>revenue</th>\n",
       "      <th>original_title</th>\n",
       "      <th>cast</th>\n",
       "      <th>director</th>\n",
       "      <th>tagline</th>\n",
       "      <th>overview</th>\n",
       "      <th>runtime</th>\n",
       "      <th>genres</th>\n",
       "      <th>production_companies</th>\n",
       "      <th>release_date</th>\n",
       "      <th>vote_count</th>\n",
       "      <th>vote_average</th>\n",
       "      <th>release_year</th>\n",
       "    </tr>\n",
       "  </thead>\n",
       "  <tbody>\n",
       "    <tr>\n",
       "      <th>1158</th>\n",
       "      <td>tt0279111</td>\n",
       "      <td>0.469518</td>\n",
       "      <td>56000000</td>\n",
       "      <td>12923936</td>\n",
       "      <td>Gods and Generals</td>\n",
       "      <td>Stephen Lang|Jeff Daniels|Robert Duvall|Kevin ...</td>\n",
       "      <td>Ronald F. Maxwell</td>\n",
       "      <td>The nations heart was touched by...</td>\n",
       "      <td>The film centers mostly around the personal an...</td>\n",
       "      <td>214</td>\n",
       "      <td>Drama|History|War</td>\n",
       "      <td>Turner Pictures|Antietam Filmworks</td>\n",
       "      <td>2/21/2003</td>\n",
       "      <td>23</td>\n",
       "      <td>5.8</td>\n",
       "      <td>2003</td>\n",
       "    </tr>\n",
       "    <tr>\n",
       "      <th>1082</th>\n",
       "      <td>tt0167260</td>\n",
       "      <td>7.122455</td>\n",
       "      <td>94000000</td>\n",
       "      <td>1118888979</td>\n",
       "      <td>The Lord of the Rings: The Return of the King</td>\n",
       "      <td>Elijah Wood|Ian McKellen|Viggo Mortensen|Liv T...</td>\n",
       "      <td>Peter Jackson</td>\n",
       "      <td>The eye of the enemy is moving.</td>\n",
       "      <td>Aragorn is revealed as the heir to the ancient...</td>\n",
       "      <td>201</td>\n",
       "      <td>Adventure|Fantasy|Action</td>\n",
       "      <td>WingNut Films|New Line Cinema</td>\n",
       "      <td>12/1/2003</td>\n",
       "      <td>5636</td>\n",
       "      <td>7.9</td>\n",
       "      <td>2003</td>\n",
       "    </tr>\n",
       "    <tr>\n",
       "      <th>1737</th>\n",
       "      <td>tt0462322</td>\n",
       "      <td>0.906938</td>\n",
       "      <td>67000000</td>\n",
       "      <td>25037897</td>\n",
       "      <td>Grindhouse</td>\n",
       "      <td>Kurt Russell|ZoÃ« Bell|Rosario Dawson|Vanessa ...</td>\n",
       "      <td>Robert Rodriguez|Eli Roth|Quentin Tarantino|Ed...</td>\n",
       "      <td>A double feature that'll tear you in two!</td>\n",
       "      <td>Two full length feature horror movies written ...</td>\n",
       "      <td>191</td>\n",
       "      <td>Thriller|Action|Horror</td>\n",
       "      <td>Big Talk Productions|Yer Dead Productions|Wein...</td>\n",
       "      <td>4/6/2007</td>\n",
       "      <td>197</td>\n",
       "      <td>6.5</td>\n",
       "      <td>2007</td>\n",
       "    </tr>\n",
       "    <tr>\n",
       "      <th>1337</th>\n",
       "      <td>tt0360717</td>\n",
       "      <td>1.508329</td>\n",
       "      <td>207000000</td>\n",
       "      <td>550000000</td>\n",
       "      <td>King Kong</td>\n",
       "      <td>Naomi Watts|Jack Black|Adrien Brody|Thomas Kre...</td>\n",
       "      <td>Peter Jackson</td>\n",
       "      <td>The eighth wonder of the world.</td>\n",
       "      <td>In 1933 New York, an overly ambitious movie pr...</td>\n",
       "      <td>187</td>\n",
       "      <td>Adventure|Drama|Action</td>\n",
       "      <td>WingNut Films|Universal Pictures|Big Primate P...</td>\n",
       "      <td>12/14/2005</td>\n",
       "      <td>1289</td>\n",
       "      <td>6.4</td>\n",
       "      <td>2005</td>\n",
       "    </tr>\n",
       "    <tr>\n",
       "      <th>505</th>\n",
       "      <td>tt0213149</td>\n",
       "      <td>2.478879</td>\n",
       "      <td>140000000</td>\n",
       "      <td>449220945</td>\n",
       "      <td>Pearl Harbor</td>\n",
       "      <td>Ben Affleck|Josh Hartnett|Kate Beckinsale|Cuba...</td>\n",
       "      <td>Michael Bay</td>\n",
       "      <td>December 7, 1941 - A day that shall live in in...</td>\n",
       "      <td>The lifelong friendship between Rafe McCawley ...</td>\n",
       "      <td>183</td>\n",
       "      <td>History|Romance|War</td>\n",
       "      <td>Jerry Bruckheimer Films|Touchstone Pictures</td>\n",
       "      <td>5/21/2001</td>\n",
       "      <td>1044</td>\n",
       "      <td>6.6</td>\n",
       "      <td>2001</td>\n",
       "    </tr>\n",
       "  </tbody>\n",
       "</table>\n",
       "</div>"
      ],
      "text/plain": [
       "        imdb_id  popularity     budget     revenue  \\\n",
       "1158  tt0279111    0.469518   56000000    12923936   \n",
       "1082  tt0167260    7.122455   94000000  1118888979   \n",
       "1737  tt0462322    0.906938   67000000    25037897   \n",
       "1337  tt0360717    1.508329  207000000   550000000   \n",
       "505   tt0213149    2.478879  140000000   449220945   \n",
       "\n",
       "                                     original_title  \\\n",
       "1158                              Gods and Generals   \n",
       "1082  The Lord of the Rings: The Return of the King   \n",
       "1737                                     Grindhouse   \n",
       "1337                                      King Kong   \n",
       "505                                    Pearl Harbor   \n",
       "\n",
       "                                                   cast  \\\n",
       "1158  Stephen Lang|Jeff Daniels|Robert Duvall|Kevin ...   \n",
       "1082  Elijah Wood|Ian McKellen|Viggo Mortensen|Liv T...   \n",
       "1737  Kurt Russell|ZoÃ« Bell|Rosario Dawson|Vanessa ...   \n",
       "1337  Naomi Watts|Jack Black|Adrien Brody|Thomas Kre...   \n",
       "505   Ben Affleck|Josh Hartnett|Kate Beckinsale|Cuba...   \n",
       "\n",
       "                                               director  \\\n",
       "1158                                  Ronald F. Maxwell   \n",
       "1082                                      Peter Jackson   \n",
       "1737  Robert Rodriguez|Eli Roth|Quentin Tarantino|Ed...   \n",
       "1337                                      Peter Jackson   \n",
       "505                                         Michael Bay   \n",
       "\n",
       "                                                tagline  \\\n",
       "1158                The nations heart was touched by...   \n",
       "1082                    The eye of the enemy is moving.   \n",
       "1737          A double feature that'll tear you in two!   \n",
       "1337                    The eighth wonder of the world.   \n",
       "505   December 7, 1941 - A day that shall live in in...   \n",
       "\n",
       "                                               overview  runtime  \\\n",
       "1158  The film centers mostly around the personal an...      214   \n",
       "1082  Aragorn is revealed as the heir to the ancient...      201   \n",
       "1737  Two full length feature horror movies written ...      191   \n",
       "1337  In 1933 New York, an overly ambitious movie pr...      187   \n",
       "505   The lifelong friendship between Rafe McCawley ...      183   \n",
       "\n",
       "                        genres  \\\n",
       "1158         Drama|History|War   \n",
       "1082  Adventure|Fantasy|Action   \n",
       "1737    Thriller|Action|Horror   \n",
       "1337    Adventure|Drama|Action   \n",
       "505        History|Romance|War   \n",
       "\n",
       "                                   production_companies release_date  \\\n",
       "1158                 Turner Pictures|Antietam Filmworks    2/21/2003   \n",
       "1082                      WingNut Films|New Line Cinema    12/1/2003   \n",
       "1737  Big Talk Productions|Yer Dead Productions|Wein...     4/6/2007   \n",
       "1337  WingNut Films|Universal Pictures|Big Primate P...   12/14/2005   \n",
       "505         Jerry Bruckheimer Films|Touchstone Pictures    5/21/2001   \n",
       "\n",
       "      vote_count  vote_average  release_year  \n",
       "1158          23           5.8          2003  \n",
       "1082        5636           7.9          2003  \n",
       "1737         197           6.5          2007  \n",
       "1337        1289           6.4          2005  \n",
       "505         1044           6.6          2001  "
      ]
     },
     "execution_count": 8,
     "metadata": {},
     "output_type": "execute_result"
    }
   ],
   "source": [
    "data.sort_values([data.runtime.name], ascending=False).head()\n",
    "# data.head()"
   ]
  },
  {
   "cell_type": "code",
   "execution_count": 9,
   "metadata": {},
   "outputs": [],
   "source": [
    "answer_ls.append(2)"
   ]
  },
  {
   "cell_type": "markdown",
   "metadata": {},
   "source": [
    "# 3. Какой из фильмов самый короткий (в минутах)\n",
    "Варианты ответов:\n",
    "\n",
    "1. Home on the Range\ttt0299172\n",
    "2. The Jungle Book 2\ttt0283426\n",
    "3. Winnie the Pooh\ttt1449283\n",
    "4. Corpse Bride\ttt0121164\n",
    "5. Hoodwinked!\ttt0443536"
   ]
  },
  {
   "cell_type": "code",
   "execution_count": 10,
   "metadata": {},
   "outputs": [
    {
     "data": {
      "text/html": [
       "<div>\n",
       "<style scoped>\n",
       "    .dataframe tbody tr th:only-of-type {\n",
       "        vertical-align: middle;\n",
       "    }\n",
       "\n",
       "    .dataframe tbody tr th {\n",
       "        vertical-align: top;\n",
       "    }\n",
       "\n",
       "    .dataframe thead th {\n",
       "        text-align: right;\n",
       "    }\n",
       "</style>\n",
       "<table border=\"1\" class=\"dataframe\">\n",
       "  <thead>\n",
       "    <tr style=\"text-align: right;\">\n",
       "      <th></th>\n",
       "      <th>imdb_id</th>\n",
       "      <th>popularity</th>\n",
       "      <th>budget</th>\n",
       "      <th>revenue</th>\n",
       "      <th>original_title</th>\n",
       "      <th>cast</th>\n",
       "      <th>director</th>\n",
       "      <th>tagline</th>\n",
       "      <th>overview</th>\n",
       "      <th>runtime</th>\n",
       "      <th>genres</th>\n",
       "      <th>production_companies</th>\n",
       "      <th>release_date</th>\n",
       "      <th>vote_count</th>\n",
       "      <th>vote_average</th>\n",
       "      <th>release_year</th>\n",
       "    </tr>\n",
       "  </thead>\n",
       "  <tbody>\n",
       "    <tr>\n",
       "      <th>769</th>\n",
       "      <td>tt1449283</td>\n",
       "      <td>1.425344</td>\n",
       "      <td>30000000</td>\n",
       "      <td>14460000</td>\n",
       "      <td>Winnie the Pooh</td>\n",
       "      <td>Jim Cummings|Travis Oates|Jim Cummings|Bud Luc...</td>\n",
       "      <td>Stephen Anderson|Don Hall</td>\n",
       "      <td>Oh Pooh.</td>\n",
       "      <td>During an ordinary day in Hundred Acre Wood, W...</td>\n",
       "      <td>63</td>\n",
       "      <td>Animation|Family</td>\n",
       "      <td>Walt Disney Pictures|Walt Disney Animation Stu...</td>\n",
       "      <td>4/13/2011</td>\n",
       "      <td>174</td>\n",
       "      <td>6.8</td>\n",
       "      <td>2011</td>\n",
       "    </tr>\n",
       "  </tbody>\n",
       "</table>\n",
       "</div>"
      ],
      "text/plain": [
       "       imdb_id  popularity    budget   revenue   original_title  \\\n",
       "769  tt1449283    1.425344  30000000  14460000  Winnie the Pooh   \n",
       "\n",
       "                                                  cast  \\\n",
       "769  Jim Cummings|Travis Oates|Jim Cummings|Bud Luc...   \n",
       "\n",
       "                      director   tagline  \\\n",
       "769  Stephen Anderson|Don Hall  Oh Pooh.   \n",
       "\n",
       "                                              overview  runtime  \\\n",
       "769  During an ordinary day in Hundred Acre Wood, W...       63   \n",
       "\n",
       "               genres                               production_companies  \\\n",
       "769  Animation|Family  Walt Disney Pictures|Walt Disney Animation Stu...   \n",
       "\n",
       "    release_date  vote_count  vote_average  release_year  \n",
       "769    4/13/2011         174           6.8          2011  "
      ]
     },
     "execution_count": 10,
     "metadata": {},
     "output_type": "execute_result"
    }
   ],
   "source": [
    "data[data.runtime == min(data.runtime)]"
   ]
  },
  {
   "cell_type": "code",
   "execution_count": 11,
   "metadata": {},
   "outputs": [],
   "source": [
    "answer_ls.append(3)"
   ]
  },
  {
   "cell_type": "markdown",
   "metadata": {},
   "source": [
    "# 4. Средняя длительность фильма?\n",
    "\n",
    "Варианты ответов:\n",
    "1. 115\n",
    "2. 110\n",
    "3. 105\n",
    "4. 120\n",
    "5. 100\n"
   ]
  },
  {
   "cell_type": "code",
   "execution_count": 12,
   "metadata": {},
   "outputs": [
    {
     "data": {
      "text/plain": [
       "109.65343915343915"
      ]
     },
     "execution_count": 12,
     "metadata": {},
     "output_type": "execute_result"
    }
   ],
   "source": [
    "data.runtime.mean()"
   ]
  },
  {
   "cell_type": "code",
   "execution_count": 13,
   "metadata": {},
   "outputs": [],
   "source": [
    "answer_ls.append(2)"
   ]
  },
  {
   "cell_type": "markdown",
   "metadata": {},
   "source": [
    "# 5. Средняя длительность фильма по медиане?\n",
    "Варианты ответов:\n",
    "1. 106\n",
    "2. 112\n",
    "3. 101\n",
    "4. 120\n",
    "5. 115\n",
    "\n",
    "\n"
   ]
  },
  {
   "cell_type": "code",
   "execution_count": 14,
   "metadata": {},
   "outputs": [
    {
     "data": {
      "text/plain": [
       "106.5"
      ]
     },
     "execution_count": 14,
     "metadata": {},
     "output_type": "execute_result"
    }
   ],
   "source": [
    "np.median(data.runtime)\n",
    "# np.percentile(data.runtime, 50)"
   ]
  },
  {
   "cell_type": "code",
   "execution_count": 15,
   "metadata": {},
   "outputs": [],
   "source": [
    "answer_ls.append(1)"
   ]
  },
  {
   "cell_type": "markdown",
   "metadata": {},
   "source": [
    "# 6. Какой самый прибыльный фильм?\n",
    "Варианты ответов:\n",
    "1. The Avengers\ttt0848228\n",
    "2. Minions\ttt2293640\n",
    "3. Star Wars: The Force Awakens\ttt2488496\n",
    "4. Furious 7\ttt2820852\n",
    "5. Avatar\ttt0499549"
   ]
  },
  {
   "cell_type": "code",
   "execution_count": 16,
   "metadata": {},
   "outputs": [
    {
     "data": {
      "text/html": [
       "<div>\n",
       "<style scoped>\n",
       "    .dataframe tbody tr th:only-of-type {\n",
       "        vertical-align: middle;\n",
       "    }\n",
       "\n",
       "    .dataframe tbody tr th {\n",
       "        vertical-align: top;\n",
       "    }\n",
       "\n",
       "    .dataframe thead th {\n",
       "        text-align: right;\n",
       "    }\n",
       "</style>\n",
       "<table border=\"1\" class=\"dataframe\">\n",
       "  <thead>\n",
       "    <tr style=\"text-align: right;\">\n",
       "      <th></th>\n",
       "      <th>imdb_id</th>\n",
       "      <th>popularity</th>\n",
       "      <th>budget</th>\n",
       "      <th>revenue</th>\n",
       "      <th>original_title</th>\n",
       "      <th>profit</th>\n",
       "    </tr>\n",
       "  </thead>\n",
       "  <tbody>\n",
       "    <tr>\n",
       "      <th>239</th>\n",
       "      <td>tt0499549</td>\n",
       "      <td>9.432768</td>\n",
       "      <td>237000000</td>\n",
       "      <td>2781505847</td>\n",
       "      <td>Avatar</td>\n",
       "      <td>2544505847</td>\n",
       "    </tr>\n",
       "    <tr>\n",
       "      <th>3</th>\n",
       "      <td>tt2488496</td>\n",
       "      <td>11.173104</td>\n",
       "      <td>200000000</td>\n",
       "      <td>2068178225</td>\n",
       "      <td>Star Wars: The Force Awakens</td>\n",
       "      <td>1868178225</td>\n",
       "    </tr>\n",
       "    <tr>\n",
       "      <th>0</th>\n",
       "      <td>tt0369610</td>\n",
       "      <td>32.985763</td>\n",
       "      <td>150000000</td>\n",
       "      <td>1513528810</td>\n",
       "      <td>Jurassic World</td>\n",
       "      <td>1363528810</td>\n",
       "    </tr>\n",
       "    <tr>\n",
       "      <th>4</th>\n",
       "      <td>tt2820852</td>\n",
       "      <td>9.335014</td>\n",
       "      <td>190000000</td>\n",
       "      <td>1506249360</td>\n",
       "      <td>Furious 7</td>\n",
       "      <td>1316249360</td>\n",
       "    </tr>\n",
       "    <tr>\n",
       "      <th>971</th>\n",
       "      <td>tt0848228</td>\n",
       "      <td>7.637767</td>\n",
       "      <td>220000000</td>\n",
       "      <td>1519557910</td>\n",
       "      <td>The Avengers</td>\n",
       "      <td>1299557910</td>\n",
       "    </tr>\n",
       "    <tr>\n",
       "      <th>...</th>\n",
       "      <td>...</td>\n",
       "      <td>...</td>\n",
       "      <td>...</td>\n",
       "      <td>...</td>\n",
       "      <td>...</td>\n",
       "      <td>...</td>\n",
       "    </tr>\n",
       "    <tr>\n",
       "      <th>959</th>\n",
       "      <td>tt0180052</td>\n",
       "      <td>0.912373</td>\n",
       "      <td>100000000</td>\n",
       "      <td>7103973</td>\n",
       "      <td>The Adventures of Pluto Nash</td>\n",
       "      <td>-92896027</td>\n",
       "    </tr>\n",
       "    <tr>\n",
       "      <th>810</th>\n",
       "      <td>tt1305591</td>\n",
       "      <td>0.921653</td>\n",
       "      <td>150000000</td>\n",
       "      <td>38992758</td>\n",
       "      <td>Mars Needs Moms</td>\n",
       "      <td>-111007242</td>\n",
       "    </tr>\n",
       "    <tr>\n",
       "      <th>1617</th>\n",
       "      <td>tt0318974</td>\n",
       "      <td>0.948560</td>\n",
       "      <td>145000000</td>\n",
       "      <td>25819961</td>\n",
       "      <td>The Alamo</td>\n",
       "      <td>-119180039</td>\n",
       "    </tr>\n",
       "    <tr>\n",
       "      <th>1246</th>\n",
       "      <td>tt1210819</td>\n",
       "      <td>1.214510</td>\n",
       "      <td>255000000</td>\n",
       "      <td>89289910</td>\n",
       "      <td>The Lone Ranger</td>\n",
       "      <td>-165710090</td>\n",
       "    </tr>\n",
       "    <tr>\n",
       "      <th>491</th>\n",
       "      <td>tt1032751</td>\n",
       "      <td>0.250540</td>\n",
       "      <td>425000000</td>\n",
       "      <td>11087569</td>\n",
       "      <td>The Warrior's Way</td>\n",
       "      <td>-413912431</td>\n",
       "    </tr>\n",
       "  </tbody>\n",
       "</table>\n",
       "<p>1890 rows × 6 columns</p>\n",
       "</div>"
      ],
      "text/plain": [
       "        imdb_id  popularity     budget     revenue  \\\n",
       "239   tt0499549    9.432768  237000000  2781505847   \n",
       "3     tt2488496   11.173104  200000000  2068178225   \n",
       "0     tt0369610   32.985763  150000000  1513528810   \n",
       "4     tt2820852    9.335014  190000000  1506249360   \n",
       "971   tt0848228    7.637767  220000000  1519557910   \n",
       "...         ...         ...        ...         ...   \n",
       "959   tt0180052    0.912373  100000000     7103973   \n",
       "810   tt1305591    0.921653  150000000    38992758   \n",
       "1617  tt0318974    0.948560  145000000    25819961   \n",
       "1246  tt1210819    1.214510  255000000    89289910   \n",
       "491   tt1032751    0.250540  425000000    11087569   \n",
       "\n",
       "                    original_title      profit  \n",
       "239                         Avatar  2544505847  \n",
       "3     Star Wars: The Force Awakens  1868178225  \n",
       "0                   Jurassic World  1363528810  \n",
       "4                        Furious 7  1316249360  \n",
       "971                   The Avengers  1299557910  \n",
       "...                            ...         ...  \n",
       "959   The Adventures of Pluto Nash   -92896027  \n",
       "810                Mars Needs Moms  -111007242  \n",
       "1617                     The Alamo  -119180039  \n",
       "1246               The Lone Ranger  -165710090  \n",
       "491              The Warrior's Way  -413912431  \n",
       "\n",
       "[1890 rows x 6 columns]"
      ]
     },
     "execution_count": 16,
     "metadata": {},
     "output_type": "execute_result"
    }
   ],
   "source": [
    "data['profit'] = data.revenue - data.budget\n",
    "data[['imdb_id', 'popularity', 'budget', 'revenue', 'original_title',\n",
    "      'profit']].sort_values(['profit'], ascending=False)"
   ]
  },
  {
   "cell_type": "code",
   "execution_count": 17,
   "metadata": {},
   "outputs": [],
   "source": [
    "answer_ls.append(5)"
   ]
  },
  {
   "cell_type": "markdown",
   "metadata": {},
   "source": [
    "# 7. Какой фильм самый убыточный?\n",
    "Варианты ответов:\n",
    "1. Supernova tt0134983\n",
    "2. The Warrior's Way tt1032751\n",
    "3. Flushed Away\ttt0424095\n",
    "4. The Adventures of Pluto Nash\ttt0180052\n",
    "5. The Lone Ranger\ttt1210819"
   ]
  },
  {
   "cell_type": "code",
   "execution_count": 18,
   "metadata": {},
   "outputs": [
    {
     "data": {
      "text/html": [
       "<div>\n",
       "<style scoped>\n",
       "    .dataframe tbody tr th:only-of-type {\n",
       "        vertical-align: middle;\n",
       "    }\n",
       "\n",
       "    .dataframe tbody tr th {\n",
       "        vertical-align: top;\n",
       "    }\n",
       "\n",
       "    .dataframe thead th {\n",
       "        text-align: right;\n",
       "    }\n",
       "</style>\n",
       "<table border=\"1\" class=\"dataframe\">\n",
       "  <thead>\n",
       "    <tr style=\"text-align: right;\">\n",
       "      <th></th>\n",
       "      <th>imdb_id</th>\n",
       "      <th>popularity</th>\n",
       "      <th>budget</th>\n",
       "      <th>revenue</th>\n",
       "      <th>original_title</th>\n",
       "      <th>cast</th>\n",
       "      <th>director</th>\n",
       "      <th>tagline</th>\n",
       "      <th>overview</th>\n",
       "      <th>runtime</th>\n",
       "      <th>genres</th>\n",
       "      <th>production_companies</th>\n",
       "      <th>release_date</th>\n",
       "      <th>vote_count</th>\n",
       "      <th>vote_average</th>\n",
       "      <th>release_year</th>\n",
       "      <th>profit</th>\n",
       "    </tr>\n",
       "  </thead>\n",
       "  <tbody>\n",
       "    <tr>\n",
       "      <th>491</th>\n",
       "      <td>tt1032751</td>\n",
       "      <td>0.25054</td>\n",
       "      <td>425000000</td>\n",
       "      <td>11087569</td>\n",
       "      <td>The Warrior's Way</td>\n",
       "      <td>Kate Bosworth|Jang Dong-gun|Geoffrey Rush|Dann...</td>\n",
       "      <td>Sngmoo Lee</td>\n",
       "      <td>Assassin. Hero. Legend.</td>\n",
       "      <td>An Asian assassin (Dong-gun Jang) is forced to...</td>\n",
       "      <td>100</td>\n",
       "      <td>Adventure|Fantasy|Action|Western|Thriller</td>\n",
       "      <td>Boram Entertainment Inc.</td>\n",
       "      <td>12/2/2010</td>\n",
       "      <td>74</td>\n",
       "      <td>6.4</td>\n",
       "      <td>2010</td>\n",
       "      <td>-413912431</td>\n",
       "    </tr>\n",
       "  </tbody>\n",
       "</table>\n",
       "</div>"
      ],
      "text/plain": [
       "       imdb_id  popularity     budget   revenue     original_title  \\\n",
       "491  tt1032751     0.25054  425000000  11087569  The Warrior's Way   \n",
       "\n",
       "                                                  cast    director  \\\n",
       "491  Kate Bosworth|Jang Dong-gun|Geoffrey Rush|Dann...  Sngmoo Lee   \n",
       "\n",
       "                     tagline  \\\n",
       "491  Assassin. Hero. Legend.   \n",
       "\n",
       "                                              overview  runtime  \\\n",
       "491  An Asian assassin (Dong-gun Jang) is forced to...      100   \n",
       "\n",
       "                                        genres      production_companies  \\\n",
       "491  Adventure|Fantasy|Action|Western|Thriller  Boram Entertainment Inc.   \n",
       "\n",
       "    release_date  vote_count  vote_average  release_year     profit  \n",
       "491    12/2/2010          74           6.4          2010 -413912431  "
      ]
     },
     "execution_count": 18,
     "metadata": {},
     "output_type": "execute_result"
    }
   ],
   "source": [
    "data[data.profit == min(data.profit)]"
   ]
  },
  {
   "cell_type": "code",
   "execution_count": 19,
   "metadata": {},
   "outputs": [],
   "source": [
    "answer_ls.append(2)"
   ]
  },
  {
   "cell_type": "markdown",
   "metadata": {},
   "source": [
    "# 8. Сколько всего фильмов в прибыли?\n",
    "Варианты ответов:\n",
    "1. 1478\n",
    "2. 1520\n",
    "3. 1241\n",
    "4. 1135\n",
    "5. 1398\n"
   ]
  },
  {
   "cell_type": "code",
   "execution_count": 20,
   "metadata": {},
   "outputs": [
    {
     "data": {
      "text/plain": [
       "1478"
      ]
     },
     "execution_count": 20,
     "metadata": {},
     "output_type": "execute_result"
    }
   ],
   "source": [
    "len(data[data.profit > 0])"
   ]
  },
  {
   "cell_type": "code",
   "execution_count": 21,
   "metadata": {},
   "outputs": [],
   "source": [
    "answer_ls.append(1)"
   ]
  },
  {
   "cell_type": "markdown",
   "metadata": {},
   "source": [
    "# 9. Самый прибыльный фильм в 2008 году?\n",
    "Варианты ответов:\n",
    "1. Madagascar: Escape 2 Africa\ttt0479952\n",
    "2. Iron Man\ttt0371746\n",
    "3. Kung Fu Panda\ttt0441773\n",
    "4. The Dark Knight\ttt0468569\n",
    "5. Mamma Mia!\ttt0795421"
   ]
  },
  {
   "cell_type": "code",
   "execution_count": 22,
   "metadata": {},
   "outputs": [],
   "source": [
    "# str_data = data[data.index == 0].release_date[0]\n",
    "# print(str_data)\n",
    "# pd.to_datetime(str_data).year\n",
    "# data['datetime_release'] = data.release_date.apply(pd.to_datetime)\n",
    "# data.head()\n",
    "# не заметил, что есть уже колонка с годом релиза...))"
   ]
  },
  {
   "cell_type": "code",
   "execution_count": 23,
   "metadata": {},
   "outputs": [
    {
     "data": {
      "text/html": [
       "<div>\n",
       "<style scoped>\n",
       "    .dataframe tbody tr th:only-of-type {\n",
       "        vertical-align: middle;\n",
       "    }\n",
       "\n",
       "    .dataframe tbody tr th {\n",
       "        vertical-align: top;\n",
       "    }\n",
       "\n",
       "    .dataframe thead th {\n",
       "        text-align: right;\n",
       "    }\n",
       "</style>\n",
       "<table border=\"1\" class=\"dataframe\">\n",
       "  <thead>\n",
       "    <tr style=\"text-align: right;\">\n",
       "      <th></th>\n",
       "      <th>imdb_id</th>\n",
       "      <th>popularity</th>\n",
       "      <th>budget</th>\n",
       "      <th>revenue</th>\n",
       "      <th>original_title</th>\n",
       "      <th>cast</th>\n",
       "      <th>director</th>\n",
       "      <th>tagline</th>\n",
       "      <th>overview</th>\n",
       "      <th>runtime</th>\n",
       "      <th>genres</th>\n",
       "      <th>production_companies</th>\n",
       "      <th>release_date</th>\n",
       "      <th>vote_count</th>\n",
       "      <th>vote_average</th>\n",
       "      <th>release_year</th>\n",
       "      <th>profit</th>\n",
       "    </tr>\n",
       "  </thead>\n",
       "  <tbody>\n",
       "    <tr>\n",
       "      <th>600</th>\n",
       "      <td>tt0468569</td>\n",
       "      <td>8.466668</td>\n",
       "      <td>185000000</td>\n",
       "      <td>1001921825</td>\n",
       "      <td>The Dark Knight</td>\n",
       "      <td>Christian Bale|Michael Caine|Heath Ledger|Aaro...</td>\n",
       "      <td>Christopher Nolan</td>\n",
       "      <td>Why So Serious?</td>\n",
       "      <td>Batman raises the stakes in his war on crime. ...</td>\n",
       "      <td>152</td>\n",
       "      <td>Drama|Action|Crime|Thriller</td>\n",
       "      <td>DC Comics|Legendary Pictures|Warner Bros.|Syncopy</td>\n",
       "      <td>7/16/2008</td>\n",
       "      <td>8432</td>\n",
       "      <td>8.1</td>\n",
       "      <td>2008</td>\n",
       "      <td>816921825</td>\n",
       "    </tr>\n",
       "    <tr>\n",
       "      <th>604</th>\n",
       "      <td>tt0367882</td>\n",
       "      <td>3.161670</td>\n",
       "      <td>185000000</td>\n",
       "      <td>786636033</td>\n",
       "      <td>Indiana Jones and the Kingdom of the Crystal S...</td>\n",
       "      <td>Harrison Ford|Cate Blanchett|Shia LaBeouf|Ray ...</td>\n",
       "      <td>Steven Spielberg</td>\n",
       "      <td>The adventure continues . . .</td>\n",
       "      <td>Set during the Cold War, the Soviets â€“ led b...</td>\n",
       "      <td>122</td>\n",
       "      <td>Adventure|Action</td>\n",
       "      <td>Lucasfilm|Paramount Pictures</td>\n",
       "      <td>5/21/2008</td>\n",
       "      <td>1537</td>\n",
       "      <td>5.6</td>\n",
       "      <td>2008</td>\n",
       "      <td>601636033</td>\n",
       "    </tr>\n",
       "    <tr>\n",
       "      <th>607</th>\n",
       "      <td>tt0441773</td>\n",
       "      <td>3.036644</td>\n",
       "      <td>130000000</td>\n",
       "      <td>631744560</td>\n",
       "      <td>Kung Fu Panda</td>\n",
       "      <td>Jack Black|Dustin Hoffman|Angelina Jolie|Jacki...</td>\n",
       "      <td>Mark Osborne|John Stevenson</td>\n",
       "      <td>Prepare for awesomeness.</td>\n",
       "      <td>When the Valley of Peace is threatened, lazy P...</td>\n",
       "      <td>90</td>\n",
       "      <td>Animation|Family</td>\n",
       "      <td>DreamWorks Animation</td>\n",
       "      <td>6/4/2008</td>\n",
       "      <td>1938</td>\n",
       "      <td>6.8</td>\n",
       "      <td>2008</td>\n",
       "      <td>501744560</td>\n",
       "    </tr>\n",
       "    <tr>\n",
       "      <th>622</th>\n",
       "      <td>tt0448157</td>\n",
       "      <td>1.800286</td>\n",
       "      <td>150000000</td>\n",
       "      <td>624029371</td>\n",
       "      <td>Hancock</td>\n",
       "      <td>Will Smith|Charlize Theron|Jason Bateman|Jae H...</td>\n",
       "      <td>Peter Berg</td>\n",
       "      <td>Bad Behavior. Bad Attitude. Real Hero.</td>\n",
       "      <td>Hancock is a down-and-out superhero who's forc...</td>\n",
       "      <td>92</td>\n",
       "      <td>Fantasy|Action</td>\n",
       "      <td>Columbia Pictures|Weed Road Pictures|Forward P...</td>\n",
       "      <td>7/1/2008</td>\n",
       "      <td>1764</td>\n",
       "      <td>6.0</td>\n",
       "      <td>2008</td>\n",
       "      <td>474029371</td>\n",
       "    </tr>\n",
       "    <tr>\n",
       "      <th>608</th>\n",
       "      <td>tt0795421</td>\n",
       "      <td>2.543535</td>\n",
       "      <td>52000000</td>\n",
       "      <td>609841637</td>\n",
       "      <td>Mamma Mia!</td>\n",
       "      <td>Meryl Streep|Pierce Brosnan|Amanda Seyfried|Co...</td>\n",
       "      <td>Phyllida Lloyd</td>\n",
       "      <td>Take a trip down the aisle you'll never forget</td>\n",
       "      <td>Set on an idyllic Greek island, the plot serve...</td>\n",
       "      <td>108</td>\n",
       "      <td>Comedy|Romance</td>\n",
       "      <td>Universal Pictures|Internationale Filmprodukti...</td>\n",
       "      <td>6/30/2008</td>\n",
       "      <td>805</td>\n",
       "      <td>6.2</td>\n",
       "      <td>2008</td>\n",
       "      <td>557841637</td>\n",
       "    </tr>\n",
       "  </tbody>\n",
       "</table>\n",
       "</div>"
      ],
      "text/plain": [
       "       imdb_id  popularity     budget     revenue  \\\n",
       "600  tt0468569    8.466668  185000000  1001921825   \n",
       "604  tt0367882    3.161670  185000000   786636033   \n",
       "607  tt0441773    3.036644  130000000   631744560   \n",
       "622  tt0448157    1.800286  150000000   624029371   \n",
       "608  tt0795421    2.543535   52000000   609841637   \n",
       "\n",
       "                                        original_title  \\\n",
       "600                                    The Dark Knight   \n",
       "604  Indiana Jones and the Kingdom of the Crystal S...   \n",
       "607                                      Kung Fu Panda   \n",
       "622                                            Hancock   \n",
       "608                                         Mamma Mia!   \n",
       "\n",
       "                                                  cast  \\\n",
       "600  Christian Bale|Michael Caine|Heath Ledger|Aaro...   \n",
       "604  Harrison Ford|Cate Blanchett|Shia LaBeouf|Ray ...   \n",
       "607  Jack Black|Dustin Hoffman|Angelina Jolie|Jacki...   \n",
       "622  Will Smith|Charlize Theron|Jason Bateman|Jae H...   \n",
       "608  Meryl Streep|Pierce Brosnan|Amanda Seyfried|Co...   \n",
       "\n",
       "                        director  \\\n",
       "600            Christopher Nolan   \n",
       "604             Steven Spielberg   \n",
       "607  Mark Osborne|John Stevenson   \n",
       "622                   Peter Berg   \n",
       "608               Phyllida Lloyd   \n",
       "\n",
       "                                            tagline  \\\n",
       "600                                 Why So Serious?   \n",
       "604                   The adventure continues . . .   \n",
       "607                        Prepare for awesomeness.   \n",
       "622          Bad Behavior. Bad Attitude. Real Hero.   \n",
       "608  Take a trip down the aisle you'll never forget   \n",
       "\n",
       "                                              overview  runtime  \\\n",
       "600  Batman raises the stakes in his war on crime. ...      152   \n",
       "604  Set during the Cold War, the Soviets â€“ led b...      122   \n",
       "607  When the Valley of Peace is threatened, lazy P...       90   \n",
       "622  Hancock is a down-and-out superhero who's forc...       92   \n",
       "608  Set on an idyllic Greek island, the plot serve...      108   \n",
       "\n",
       "                          genres  \\\n",
       "600  Drama|Action|Crime|Thriller   \n",
       "604             Adventure|Action   \n",
       "607             Animation|Family   \n",
       "622               Fantasy|Action   \n",
       "608               Comedy|Romance   \n",
       "\n",
       "                                  production_companies release_date  \\\n",
       "600  DC Comics|Legendary Pictures|Warner Bros.|Syncopy    7/16/2008   \n",
       "604                       Lucasfilm|Paramount Pictures    5/21/2008   \n",
       "607                               DreamWorks Animation     6/4/2008   \n",
       "622  Columbia Pictures|Weed Road Pictures|Forward P...     7/1/2008   \n",
       "608  Universal Pictures|Internationale Filmprodukti...    6/30/2008   \n",
       "\n",
       "     vote_count  vote_average  release_year     profit  \n",
       "600        8432           8.1          2008  816921825  \n",
       "604        1537           5.6          2008  601636033  \n",
       "607        1938           6.8          2008  501744560  \n",
       "622        1764           6.0          2008  474029371  \n",
       "608         805           6.2          2008  557841637  "
      ]
     },
     "execution_count": 23,
     "metadata": {},
     "output_type": "execute_result"
    }
   ],
   "source": [
    "# data[data.release_year == 2008].sort_values(['profit'], ascending=False).head()\n",
    "data[data.release_year == 2008].sort_values(\n",
    "    ['revenue'], ascending=False).head()"
   ]
  },
  {
   "cell_type": "code",
   "execution_count": 24,
   "metadata": {},
   "outputs": [],
   "source": [
    "answer_ls.append(4)"
   ]
  },
  {
   "cell_type": "markdown",
   "metadata": {},
   "source": [
    "# 10. Самый убыточный фильм за период с 2012 по 2014 (включительно)?\n",
    "Варианты ответов:\n",
    "1. Winter's Tale\ttt1837709\n",
    "2. Stolen\ttt1656186\n",
    "3. Broken City\ttt1235522\n",
    "4. Upside Down\ttt1374992\n",
    "5. The Lone Ranger\ttt1210819\n"
   ]
  },
  {
   "cell_type": "code",
   "execution_count": 25,
   "metadata": {},
   "outputs": [
    {
     "data": {
      "text/html": [
       "<div>\n",
       "<style scoped>\n",
       "    .dataframe tbody tr th:only-of-type {\n",
       "        vertical-align: middle;\n",
       "    }\n",
       "\n",
       "    .dataframe tbody tr th {\n",
       "        vertical-align: top;\n",
       "    }\n",
       "\n",
       "    .dataframe thead th {\n",
       "        text-align: right;\n",
       "    }\n",
       "</style>\n",
       "<table border=\"1\" class=\"dataframe\">\n",
       "  <thead>\n",
       "    <tr style=\"text-align: right;\">\n",
       "      <th></th>\n",
       "      <th>imdb_id</th>\n",
       "      <th>popularity</th>\n",
       "      <th>budget</th>\n",
       "      <th>revenue</th>\n",
       "      <th>original_title</th>\n",
       "      <th>cast</th>\n",
       "      <th>director</th>\n",
       "      <th>tagline</th>\n",
       "      <th>overview</th>\n",
       "      <th>runtime</th>\n",
       "      <th>genres</th>\n",
       "      <th>production_companies</th>\n",
       "      <th>release_date</th>\n",
       "      <th>vote_count</th>\n",
       "      <th>vote_average</th>\n",
       "      <th>release_year</th>\n",
       "      <th>profit</th>\n",
       "    </tr>\n",
       "  </thead>\n",
       "  <tbody>\n",
       "    <tr>\n",
       "      <th>1246</th>\n",
       "      <td>tt1210819</td>\n",
       "      <td>1.214510</td>\n",
       "      <td>255000000</td>\n",
       "      <td>89289910</td>\n",
       "      <td>The Lone Ranger</td>\n",
       "      <td>Johnny Depp|Armie Hammer|William Fichtner|Hele...</td>\n",
       "      <td>Gore Verbinski</td>\n",
       "      <td>Never Take Off the Mask</td>\n",
       "      <td>The Texas Rangers chase down a gang of outlaws...</td>\n",
       "      <td>149</td>\n",
       "      <td>Action|Adventure|Western</td>\n",
       "      <td>Walt Disney Pictures|Jerry Bruckheimer Films|I...</td>\n",
       "      <td>7/3/2013</td>\n",
       "      <td>1607</td>\n",
       "      <td>6.0</td>\n",
       "      <td>2013</td>\n",
       "      <td>-165710090</td>\n",
       "    </tr>\n",
       "    <tr>\n",
       "      <th>1215</th>\n",
       "      <td>tt0790736</td>\n",
       "      <td>1.689869</td>\n",
       "      <td>130000000</td>\n",
       "      <td>61648500</td>\n",
       "      <td>R.I.P.D.</td>\n",
       "      <td>Jeff Bridges|Ryan Reynolds|Kevin Bacon|Stephan...</td>\n",
       "      <td>Robert Schwentke</td>\n",
       "      <td>To protect and serve the living</td>\n",
       "      <td>A recently slain cop joins a team of undead po...</td>\n",
       "      <td>96</td>\n",
       "      <td>Fantasy|Action|Comedy|Crime</td>\n",
       "      <td>Universal Pictures|Original Film|Dark Horse En...</td>\n",
       "      <td>7/18/2013</td>\n",
       "      <td>876</td>\n",
       "      <td>5.3</td>\n",
       "      <td>2013</td>\n",
       "      <td>-68351500</td>\n",
       "    </tr>\n",
       "    <tr>\n",
       "      <th>1008</th>\n",
       "      <td>tt1374992</td>\n",
       "      <td>1.690572</td>\n",
       "      <td>60000000</td>\n",
       "      <td>8106475</td>\n",
       "      <td>Upside Down</td>\n",
       "      <td>Kirsten Dunst|Jim Sturgess|Timothy Spall|James...</td>\n",
       "      <td>Juan Diego Solanas</td>\n",
       "      <td>Two worlds. One future.</td>\n",
       "      <td>In an alternate universe where twinned worlds ...</td>\n",
       "      <td>104</td>\n",
       "      <td>Romance|Science Fiction|Drama|Fantasy</td>\n",
       "      <td>Onyx Films|Studio 37|Jouror Productions|France...</td>\n",
       "      <td>9/27/2012</td>\n",
       "      <td>695</td>\n",
       "      <td>6.1</td>\n",
       "      <td>2012</td>\n",
       "      <td>-51893525</td>\n",
       "    </tr>\n",
       "    <tr>\n",
       "      <th>1303</th>\n",
       "      <td>tt0884726</td>\n",
       "      <td>0.354271</td>\n",
       "      <td>70000000</td>\n",
       "      <td>18662027</td>\n",
       "      <td>Legends of Oz: Dorothy's Return</td>\n",
       "      <td>Lea Michele|Dan Aykroyd|Patrick Stewart|Hugh D...</td>\n",
       "      <td>Dan St. Pierre</td>\n",
       "      <td>There's trouble in OZ...</td>\n",
       "      <td>Dorothy wakes up in post-tornado Kansas, only ...</td>\n",
       "      <td>88</td>\n",
       "      <td>Animation|Music|Family</td>\n",
       "      <td>Prana Animation Studios|Summertime Entertainment</td>\n",
       "      <td>6/13/2013</td>\n",
       "      <td>36</td>\n",
       "      <td>6.1</td>\n",
       "      <td>2013</td>\n",
       "      <td>-51337973</td>\n",
       "    </tr>\n",
       "    <tr>\n",
       "      <th>1236</th>\n",
       "      <td>tt1308729</td>\n",
       "      <td>1.319947</td>\n",
       "      <td>55000000</td>\n",
       "      <td>9489829</td>\n",
       "      <td>Bullet to the Head</td>\n",
       "      <td>Sylvester Stallone|Sung Kang|Sarah Shahi|Adewa...</td>\n",
       "      <td>Walter Hill</td>\n",
       "      <td>Revenge Never Gets Old.</td>\n",
       "      <td>After watching their respective partners die, ...</td>\n",
       "      <td>92</td>\n",
       "      <td>Action|Crime|Thriller</td>\n",
       "      <td>Dark Castle Entertainment|After Dark Films|IM ...</td>\n",
       "      <td>1/31/2013</td>\n",
       "      <td>347</td>\n",
       "      <td>5.2</td>\n",
       "      <td>2013</td>\n",
       "      <td>-45510171</td>\n",
       "    </tr>\n",
       "  </tbody>\n",
       "</table>\n",
       "</div>"
      ],
      "text/plain": [
       "        imdb_id  popularity     budget   revenue  \\\n",
       "1246  tt1210819    1.214510  255000000  89289910   \n",
       "1215  tt0790736    1.689869  130000000  61648500   \n",
       "1008  tt1374992    1.690572   60000000   8106475   \n",
       "1303  tt0884726    0.354271   70000000  18662027   \n",
       "1236  tt1308729    1.319947   55000000   9489829   \n",
       "\n",
       "                       original_title  \\\n",
       "1246                  The Lone Ranger   \n",
       "1215                         R.I.P.D.   \n",
       "1008                      Upside Down   \n",
       "1303  Legends of Oz: Dorothy's Return   \n",
       "1236               Bullet to the Head   \n",
       "\n",
       "                                                   cast            director  \\\n",
       "1246  Johnny Depp|Armie Hammer|William Fichtner|Hele...      Gore Verbinski   \n",
       "1215  Jeff Bridges|Ryan Reynolds|Kevin Bacon|Stephan...    Robert Schwentke   \n",
       "1008  Kirsten Dunst|Jim Sturgess|Timothy Spall|James...  Juan Diego Solanas   \n",
       "1303  Lea Michele|Dan Aykroyd|Patrick Stewart|Hugh D...      Dan St. Pierre   \n",
       "1236  Sylvester Stallone|Sung Kang|Sarah Shahi|Adewa...         Walter Hill   \n",
       "\n",
       "                              tagline  \\\n",
       "1246          Never Take Off the Mask   \n",
       "1215  To protect and serve the living   \n",
       "1008          Two worlds. One future.   \n",
       "1303         There's trouble in OZ...   \n",
       "1236          Revenge Never Gets Old.   \n",
       "\n",
       "                                               overview  runtime  \\\n",
       "1246  The Texas Rangers chase down a gang of outlaws...      149   \n",
       "1215  A recently slain cop joins a team of undead po...       96   \n",
       "1008  In an alternate universe where twinned worlds ...      104   \n",
       "1303  Dorothy wakes up in post-tornado Kansas, only ...       88   \n",
       "1236  After watching their respective partners die, ...       92   \n",
       "\n",
       "                                     genres  \\\n",
       "1246               Action|Adventure|Western   \n",
       "1215            Fantasy|Action|Comedy|Crime   \n",
       "1008  Romance|Science Fiction|Drama|Fantasy   \n",
       "1303                 Animation|Music|Family   \n",
       "1236                  Action|Crime|Thriller   \n",
       "\n",
       "                                   production_companies release_date  \\\n",
       "1246  Walt Disney Pictures|Jerry Bruckheimer Films|I...     7/3/2013   \n",
       "1215  Universal Pictures|Original Film|Dark Horse En...    7/18/2013   \n",
       "1008  Onyx Films|Studio 37|Jouror Productions|France...    9/27/2012   \n",
       "1303   Prana Animation Studios|Summertime Entertainment    6/13/2013   \n",
       "1236  Dark Castle Entertainment|After Dark Films|IM ...    1/31/2013   \n",
       "\n",
       "      vote_count  vote_average  release_year     profit  \n",
       "1246        1607           6.0          2013 -165710090  \n",
       "1215         876           5.3          2013  -68351500  \n",
       "1008         695           6.1          2012  -51893525  \n",
       "1303          36           6.1          2013  -51337973  \n",
       "1236         347           5.2          2013  -45510171  "
      ]
     },
     "execution_count": 25,
     "metadata": {},
     "output_type": "execute_result"
    }
   ],
   "source": [
    "data[(2012 <= data.release_year) & (data.release_year <= 2014)\n",
    "     ].sort_values(['profit']).head()"
   ]
  },
  {
   "cell_type": "code",
   "execution_count": 26,
   "metadata": {},
   "outputs": [],
   "source": [
    "answer_ls.append(5)"
   ]
  },
  {
   "cell_type": "markdown",
   "metadata": {},
   "source": [
    "# 11. Какого жанра фильмов больше всего?\n",
    "Варианты ответов:\n",
    "1. Action\n",
    "2. Adventure\n",
    "3. Drama\n",
    "4. Comedy\n",
    "5. Thriller"
   ]
  },
  {
   "cell_type": "code",
   "execution_count": 27,
   "metadata": {},
   "outputs": [
    {
     "name": "stdout",
     "output_type": "stream",
     "text": [
      "Counter({'Drama': 782, 'Comedy': 683, 'Thriller': 597, 'Action': 583, 'Adventure': 416, 'Crime': 315, 'Romance': 308, 'Family': 260, 'Science Fiction': 248, 'Fantasy': 223, 'Horror': 176, 'Mystery': 168, 'Animation': 139, 'Music': 64, 'History': 62, 'War': 58, 'Western': 20, 'Documentary': 8, 'Foreign': 2})\n"
     ]
    }
   ],
   "source": [
    "genr_list = []\n",
    "for s in data.genres:\n",
    "    for word in s.split('|'):\n",
    "        genr_list.append(word)\n",
    "c = Counter(genr_list)\n",
    "print(c)"
   ]
  },
  {
   "cell_type": "code",
   "execution_count": 28,
   "metadata": {},
   "outputs": [],
   "source": [
    "answer_ls.append(3)"
   ]
  },
  {
   "cell_type": "markdown",
   "metadata": {},
   "source": [
    "# 12. Какого жанра среди прибыльных фильмов больше всего?\n",
    "Варианты ответов:\n",
    "1. Drama\n",
    "2. Comedy\n",
    "3. Action\n",
    "4. Thriller\n",
    "5. Adventure"
   ]
  },
  {
   "cell_type": "code",
   "execution_count": 29,
   "metadata": {},
   "outputs": [
    {
     "name": "stdout",
     "output_type": "stream",
     "text": [
      "Counter({'Drama': 560, 'Comedy': 551, 'Thriller': 446, 'Action': 444, 'Adventure': 337, 'Romance': 242, 'Crime': 231, 'Family': 226, 'Science Fiction': 195, 'Fantasy': 188, 'Horror': 150, 'Animation': 120, 'Mystery': 119, 'Music': 47, 'History': 46, 'War': 41, 'Western': 12, 'Documentary': 7})\n"
     ]
    }
   ],
   "source": [
    "genr_list = []\n",
    "for s in data[data.profit > 0].genres:\n",
    "    for word in s.split('|'):\n",
    "        genr_list.append(word)\n",
    "c = Counter(genr_list)\n",
    "print(c)"
   ]
  },
  {
   "cell_type": "code",
   "execution_count": 30,
   "metadata": {},
   "outputs": [],
   "source": [
    "answer_ls.append(1)"
   ]
  },
  {
   "cell_type": "markdown",
   "metadata": {},
   "source": [
    "# 13. Кто из режиссеров снял больше всего фильмов?\n",
    "Варианты ответов:\n",
    "1. Steven Spielberg\n",
    "2. Ridley Scott \n",
    "3. Steven Soderbergh\n",
    "4. Christopher Nolan\n",
    "5. Clint Eastwood"
   ]
  },
  {
   "cell_type": "code",
   "execution_count": 31,
   "metadata": {},
   "outputs": [
    {
     "name": "stdout",
     "output_type": "stream",
     "text": [
      "[('Steven Soderbergh', 13), ('Ridley Scott', 12), ('Clint Eastwood', 12), ('Robert Rodriguez', 11), ('Steven Spielberg', 10)]\n"
     ]
    }
   ],
   "source": [
    "data.director[0].split(\"|\")\n",
    "directors_list = []\n",
    "for s in data.director:\n",
    "    for director_name in s.split(\"|\"):\n",
    "        directors_list.append(director_name)\n",
    "c = Counter(directors_list)\n",
    "print(c.most_common(5))\n",
    "# help(Counter)"
   ]
  },
  {
   "cell_type": "code",
   "execution_count": 32,
   "metadata": {},
   "outputs": [],
   "source": [
    "answer_ls.append(3)"
   ]
  },
  {
   "cell_type": "markdown",
   "metadata": {},
   "source": [
    "# 14. Кто из режиссеров снял больше всего Прибыльных фильмов?\n",
    "Варианты ответов:\n",
    "1. Steven Soderbergh\n",
    "2. Clint Eastwood\n",
    "3. Steven Spielberg\n",
    "4. Ridley Scott\n",
    "5. Christopher Nolan"
   ]
  },
  {
   "cell_type": "code",
   "execution_count": 33,
   "metadata": {},
   "outputs": [
    {
     "name": "stdout",
     "output_type": "stream",
     "text": [
      "[('Ridley Scott', 12), ('Steven Spielberg', 10), ('Clint Eastwood', 10), ('Steven Soderbergh', 10), ('Shawn Levy', 9)]\n"
     ]
    }
   ],
   "source": [
    "data.director[0].split(\"|\")\n",
    "directors_list = []\n",
    "for s in data[data.profit > 0].director:\n",
    "    for director_name in s.split(\"|\"):\n",
    "        directors_list.append(director_name)\n",
    "c = Counter(directors_list)\n",
    "print(c.most_common(5))\n",
    "# help(Counter)"
   ]
  },
  {
   "cell_type": "code",
   "execution_count": 34,
   "metadata": {},
   "outputs": [],
   "source": [
    "answer_ls.append(4)"
   ]
  },
  {
   "cell_type": "markdown",
   "metadata": {},
   "source": [
    "# 15. Кто из режиссеров принес больше всего прибыли?\n",
    "Варианты ответов:\n",
    "1. Steven Spielberg\n",
    "2. Christopher Nolan\n",
    "3. David Yates\n",
    "4. James Cameron\n",
    "5. Peter Jackson\n"
   ]
  },
  {
   "cell_type": "code",
   "execution_count": 35,
   "metadata": {},
   "outputs": [
    {
     "name": "stdout",
     "output_type": "stream",
     "text": [
      "[('Peter Jackson', 5202593685), ('David Yates', 3379295625), ('Christopher Nolan', 3162548502), ('J.J. Abrams', 2839169916), ('Michael Bay', 2760938960)]\n"
     ]
    }
   ],
   "source": [
    "directors_profit = Counter()\n",
    "for i in data.index:\n",
    "    for director_name in data.iloc[i].director.split(\"|\"):\n",
    "        directors_profit[director_name] += data.iloc[i].profit\n",
    "print(directors_profit.most_common(5))"
   ]
  },
  {
   "cell_type": "code",
   "execution_count": 36,
   "metadata": {},
   "outputs": [],
   "source": [
    "answer_ls.append(5)"
   ]
  },
  {
   "cell_type": "markdown",
   "metadata": {},
   "source": [
    "# 16. Какой актер принес больше всего прибыли?\n",
    "Варианты ответов:\n",
    "1. Emma Watson\n",
    "2. Johnny Depp\n",
    "3. Michelle Rodriguez\n",
    "4. Orlando Bloom\n",
    "5. Rupert Grint"
   ]
  },
  {
   "cell_type": "code",
   "execution_count": 37,
   "metadata": {},
   "outputs": [
    {
     "name": "stdout",
     "output_type": "stream",
     "text": [
      "[('Emma Watson', 6666245597), ('Daniel Radcliffe', 6514990281), ('Rupert Grint', 6408638290), ('Ian McKellen', 6087375777), ('Robert Downey Jr.', 5316030161)]\n"
     ]
    }
   ],
   "source": [
    "actors_profit = Counter()\n",
    "for i in data.index:\n",
    "    for actor_name in data.iloc[i].cast.split(\"|\"):\n",
    "        actors_profit[actor_name] += data.iloc[i].profit\n",
    "print(actors_profit.most_common(5))"
   ]
  },
  {
   "cell_type": "code",
   "execution_count": 38,
   "metadata": {},
   "outputs": [],
   "source": [
    "answer_ls.append(1)"
   ]
  },
  {
   "cell_type": "markdown",
   "metadata": {},
   "source": [
    "# 17. Какой актер принес меньше всего прибыли в 2012 году?\n",
    "Варианты ответов:\n",
    "1. Nicolas Cage\n",
    "2. Danny Huston\n",
    "3. Kirsten Dunst\n",
    "4. Jim Sturgess\n",
    "5. Sami Gayle"
   ]
  },
  {
   "cell_type": "code",
   "execution_count": 39,
   "metadata": {},
   "outputs": [
    {
     "name": "stdout",
     "output_type": "stream",
     "text": [
      "[('Kirsten Dunst', -68109207), ('Heidi Hawkins', -51893525), ('James Kidnie', -51893525), ('Timothy Spall', -51893525)]\n"
     ]
    }
   ],
   "source": [
    "actors_profit = Counter()\n",
    "for i in data[data.release_year == 2012].index:\n",
    "    for actor_name in data.iloc[i].cast.split(\"|\"):\n",
    "        actors_profit[actor_name] += data.iloc[i].profit\n",
    "print(actors_profit.most_common()[:-5:-1])\n",
    "# help(Counter)"
   ]
  },
  {
   "cell_type": "code",
   "execution_count": 40,
   "metadata": {},
   "outputs": [],
   "source": [
    "answer_ls.append(3)"
   ]
  },
  {
   "cell_type": "markdown",
   "metadata": {},
   "source": [
    "# 18. Какой актер снялся в большем количестве высокобюджетных фильмов? (в фильмах где бюджет выше среднего по данной выборке)\n",
    "Варианты ответов:\n",
    "1. Tom Cruise\n",
    "2. Mark Wahlberg \n",
    "3. Matt Damon\n",
    "4. Angelina Jolie\n",
    "5. Adam Sandler"
   ]
  },
  {
   "cell_type": "code",
   "execution_count": 41,
   "metadata": {},
   "outputs": [
    {
     "name": "stdout",
     "output_type": "stream",
     "text": [
      "[('Matt Damon', 18), ('Adam Sandler', 17), ('Angelina Jolie', 16), ('Tom Cruise', 15), ('Samuel L. Jackson', 15)]\n"
     ]
    }
   ],
   "source": [
    "# print(data.budget.mean())\n",
    "data[data.budget > data.budget.mean()]\n",
    "\n",
    "actors_list = Counter()\n",
    "for i in data[data.budget > data.budget.mean()].index:\n",
    "    for actor_name in data.iloc[i].cast.split(\"|\"):\n",
    "        actors_list[actor_name] += 1\n",
    "print(actors_list.most_common(5))"
   ]
  },
  {
   "cell_type": "code",
   "execution_count": 42,
   "metadata": {},
   "outputs": [],
   "source": [
    "answer_ls.append(3)"
   ]
  },
  {
   "cell_type": "markdown",
   "metadata": {},
   "source": [
    "# 19. В фильмах какого жанра больше всего снимался Nicolas Cage?  \n",
    "Варианты ответа:\n",
    "1. Drama\n",
    "2. Action\n",
    "3. Thriller\n",
    "4. Adventure\n",
    "5. Crime"
   ]
  },
  {
   "cell_type": "code",
   "execution_count": 43,
   "metadata": {},
   "outputs": [
    {
     "name": "stdout",
     "output_type": "stream",
     "text": [
      "[('Action', 17), ('Thriller', 15), ('Drama', 12), ('Crime', 10), ('Fantasy', 8)]\n"
     ]
    }
   ],
   "source": [
    "df = data[data.cast.str.contains('Nicolas Cage')]\n",
    "\n",
    "genr_list = []\n",
    "for s in df.genres:\n",
    "    for word in s.split('|'):\n",
    "        genr_list.append(word)\n",
    "c = Counter(genr_list)\n",
    "print(c.most_common(5))"
   ]
  },
  {
   "cell_type": "code",
   "execution_count": 44,
   "metadata": {},
   "outputs": [],
   "source": [
    "answer_ls.append(2)"
   ]
  },
  {
   "cell_type": "markdown",
   "metadata": {},
   "source": [
    "# 20. Какая студия сняла больше всего фильмов?\n",
    "Варианты ответа:\n",
    "1. Universal Pictures (Universal)\n",
    "2. Paramount Pictures\n",
    "3. Columbia Pictures\n",
    "4. Warner Bros\n",
    "5. Twentieth Century Fox Film Corporation"
   ]
  },
  {
   "cell_type": "code",
   "execution_count": 45,
   "metadata": {},
   "outputs": [
    {
     "name": "stdout",
     "output_type": "stream",
     "text": [
      "[('Universal Pictures', 173), ('Warner Bros.', 168), ('Paramount Pictures', 122), ('Columbia Pictures', 117), ('Twentieth Century Fox Film Corporation', 109)]\n"
     ]
    }
   ],
   "source": [
    "companies_list = []\n",
    "c = Counter()\n",
    "for s in data.production_companies:\n",
    "    for companie_name in s.split(\"|\"):\n",
    "        c[companie_name] += 1\n",
    "\n",
    "print(c.most_common(5))"
   ]
  },
  {
   "cell_type": "code",
   "execution_count": 46,
   "metadata": {},
   "outputs": [],
   "source": [
    "answer_ls.append(1)"
   ]
  },
  {
   "cell_type": "markdown",
   "metadata": {},
   "source": [
    "# 21. Какая студия сняла больше всего фильмов в 2015 году?\n",
    "Варианты ответа:\n",
    "1. Universal Pictures\n",
    "2. Paramount Pictures\n",
    "3. Columbia Pictures\n",
    "4. Warner Bros\n",
    "5. Twentieth Century Fox Film Corporation"
   ]
  },
  {
   "cell_type": "code",
   "execution_count": 47,
   "metadata": {},
   "outputs": [
    {
     "name": "stdout",
     "output_type": "stream",
     "text": [
      "[('Warner Bros.', 12), ('Universal Pictures', 10), ('Twentieth Century Fox Film Corporation', 8), ('Paramount Pictures', 7), ('Columbia Pictures', 7)]\n"
     ]
    }
   ],
   "source": [
    "companies_list = []\n",
    "c = Counter()\n",
    "for s in data[data.release_year == 2015].production_companies:\n",
    "    for companie_name in s.split(\"|\"):\n",
    "        c[companie_name] += 1\n",
    "\n",
    "print(c.most_common(5))"
   ]
  },
  {
   "cell_type": "code",
   "execution_count": 48,
   "metadata": {},
   "outputs": [],
   "source": [
    "answer_ls.append(4)"
   ]
  },
  {
   "cell_type": "markdown",
   "metadata": {},
   "source": [
    "# 22. Какая студия заработала больше всего денег в жанре комедий за все время?\n",
    "Варианты ответа:\n",
    "1. Warner Bros\n",
    "2. Universal Pictures (Universal)\n",
    "3. Columbia Pictures\n",
    "4. Paramount Pictures\n",
    "5. Walt Disney"
   ]
  },
  {
   "cell_type": "code",
   "execution_count": 49,
   "metadata": {},
   "outputs": [
    {
     "name": "stdout",
     "output_type": "stream",
     "text": [
      "[('Universal Pictures', 8961545581), ('Walt Disney Pictures', 7669710326), ('Twentieth Century Fox Film Corporation', 5686960294), ('Columbia Pictures', 5646343696), ('DreamWorks Animation', 4789049764)]\n"
     ]
    }
   ],
   "source": [
    "# genres = []\n",
    "# for s in data.genres.values:\n",
    "#     for genre in s.split(\"|\"):\n",
    "#         genres.append(genre)\n",
    "# set(genres)\n",
    "\n",
    "df = data[data.genres.str.contains('Comedy')]\n",
    "\n",
    "c = Counter()\n",
    "for i in range(len(df.index)):\n",
    "    for companie_name in df.iloc[i].production_companies.split(\"|\"):\n",
    "        c[companie_name] += df.iloc[i].profit\n",
    "\n",
    "print(c.most_common(5))"
   ]
  },
  {
   "cell_type": "code",
   "execution_count": 50,
   "metadata": {},
   "outputs": [],
   "source": [
    "answer_ls.append(2)"
   ]
  },
  {
   "cell_type": "markdown",
   "metadata": {},
   "source": [
    "# 23. Какая студия заработала больше всего денег в 2012 году?\n",
    "Варианты ответа:\n",
    "1. Universal Pictures (Universal)\n",
    "2. Warner Bros\n",
    "3. Columbia Pictures\n",
    "4. Paramount Pictures\n",
    "5. Lucasfilm"
   ]
  },
  {
   "cell_type": "code",
   "execution_count": 51,
   "metadata": {},
   "outputs": [
    {
     "name": "stdout",
     "output_type": "stream",
     "text": [
      "[('Columbia Pictures', 2501406608), ('Universal Pictures', 1981011579), ('Marvel Studios', 1299557910), ('Warner Bros.', 1258020056), ('Relativity Media', 1032593938)]\n"
     ]
    }
   ],
   "source": [
    "df = data[data.release_year == 2012]\n",
    "\n",
    "c = Counter()\n",
    "for i in range(len(df.index)):\n",
    "    for companie_name in df.iloc[i].production_companies.split(\"|\"):\n",
    "        c[companie_name] += df.iloc[i].profit\n",
    "\n",
    "print(c.most_common(5))"
   ]
  },
  {
   "cell_type": "code",
   "execution_count": 52,
   "metadata": {},
   "outputs": [],
   "source": [
    "answer_ls.append(3)"
   ]
  },
  {
   "cell_type": "markdown",
   "metadata": {},
   "source": [
    "# 24. Самый убыточный фильм от Paramount Pictures\n",
    "Варианты ответа:\n",
    "\n",
    "1. K-19: The Widowmaker tt0267626\n",
    "2. Next tt0435705\n",
    "3. Twisted tt0315297\n",
    "4. The Love Guru tt0811138\n",
    "5. The Fighter tt0964517"
   ]
  },
  {
   "cell_type": "code",
   "execution_count": 53,
   "metadata": {},
   "outputs": [
    {
     "data": {
      "text/html": [
       "<div>\n",
       "<style scoped>\n",
       "    .dataframe tbody tr th:only-of-type {\n",
       "        vertical-align: middle;\n",
       "    }\n",
       "\n",
       "    .dataframe tbody tr th {\n",
       "        vertical-align: top;\n",
       "    }\n",
       "\n",
       "    .dataframe thead th {\n",
       "        text-align: right;\n",
       "    }\n",
       "</style>\n",
       "<table border=\"1\" class=\"dataframe\">\n",
       "  <thead>\n",
       "    <tr style=\"text-align: right;\">\n",
       "      <th></th>\n",
       "      <th>imdb_id</th>\n",
       "      <th>popularity</th>\n",
       "      <th>budget</th>\n",
       "      <th>revenue</th>\n",
       "      <th>original_title</th>\n",
       "      <th>cast</th>\n",
       "      <th>director</th>\n",
       "      <th>tagline</th>\n",
       "      <th>overview</th>\n",
       "      <th>runtime</th>\n",
       "      <th>genres</th>\n",
       "      <th>production_companies</th>\n",
       "      <th>release_date</th>\n",
       "      <th>vote_count</th>\n",
       "      <th>vote_average</th>\n",
       "      <th>release_year</th>\n",
       "      <th>profit</th>\n",
       "    </tr>\n",
       "  </thead>\n",
       "  <tbody>\n",
       "    <tr>\n",
       "      <th>926</th>\n",
       "      <td>tt0267626</td>\n",
       "      <td>0.72233</td>\n",
       "      <td>100000000</td>\n",
       "      <td>35168966</td>\n",
       "      <td>K-19: The Widowmaker</td>\n",
       "      <td>Harrison Ford|Liam Neeson|Peter Sarsgaard|Joss...</td>\n",
       "      <td>Kathryn Bigelow</td>\n",
       "      <td>Fate has found its hero.</td>\n",
       "      <td>When Russia's first nuclear submarine malfunct...</td>\n",
       "      <td>138</td>\n",
       "      <td>Thriller|Drama|History</td>\n",
       "      <td>Paramount Pictures|Intermedia Films|National G...</td>\n",
       "      <td>7/19/2002</td>\n",
       "      <td>146</td>\n",
       "      <td>6.0</td>\n",
       "      <td>2002</td>\n",
       "      <td>-64831034</td>\n",
       "    </tr>\n",
       "  </tbody>\n",
       "</table>\n",
       "</div>"
      ],
      "text/plain": [
       "       imdb_id  popularity     budget   revenue        original_title  \\\n",
       "926  tt0267626     0.72233  100000000  35168966  K-19: The Widowmaker   \n",
       "\n",
       "                                                  cast         director  \\\n",
       "926  Harrison Ford|Liam Neeson|Peter Sarsgaard|Joss...  Kathryn Bigelow   \n",
       "\n",
       "                      tagline  \\\n",
       "926  Fate has found its hero.   \n",
       "\n",
       "                                              overview  runtime  \\\n",
       "926  When Russia's first nuclear submarine malfunct...      138   \n",
       "\n",
       "                     genres  \\\n",
       "926  Thriller|Drama|History   \n",
       "\n",
       "                                  production_companies release_date  \\\n",
       "926  Paramount Pictures|Intermedia Films|National G...    7/19/2002   \n",
       "\n",
       "     vote_count  vote_average  release_year    profit  \n",
       "926         146           6.0          2002 -64831034  "
      ]
     },
     "execution_count": 53,
     "metadata": {},
     "output_type": "execute_result"
    }
   ],
   "source": [
    "df = data[data.production_companies.str.contains('Paramount Pictures')]\n",
    "df[df.profit == min(df.profit)]"
   ]
  },
  {
   "cell_type": "code",
   "execution_count": 54,
   "metadata": {},
   "outputs": [],
   "source": [
    "answer_ls.append(1)"
   ]
  },
  {
   "cell_type": "markdown",
   "metadata": {},
   "source": [
    "# 25. Какой Самый прибыльный год (заработали больше всего)?\n",
    "Варианты ответа:\n",
    "1. 2014\n",
    "2. 2008\n",
    "3. 2012\n",
    "4. 2002\n",
    "5. 2015"
   ]
  },
  {
   "cell_type": "code",
   "execution_count": 55,
   "metadata": {},
   "outputs": [
    {
     "data": {
      "text/plain": [
       "release_year\n",
       "2015    18668572378\n",
       "2014    16397812953\n",
       "2012    16077001687\n",
       "2013    15243179791\n",
       "2011    14730241341\n",
       "Name: profit, dtype: int64"
      ]
     },
     "metadata": {},
     "output_type": "display_data"
    }
   ],
   "source": [
    "df_gr = data.groupby([data.release_year])[\n",
    "    'profit'].sum().sort_values(ascending=False)\n",
    "display(df_gr.head())"
   ]
  },
  {
   "cell_type": "code",
   "execution_count": 56,
   "metadata": {},
   "outputs": [],
   "source": [
    "answer_ls.append(5)"
   ]
  },
  {
   "cell_type": "markdown",
   "metadata": {},
   "source": [
    "# 26. Какой Самый прибыльный год для студии Warner Bros?\n",
    "Варианты ответа:\n",
    "1. 2014\n",
    "2. 2008\n",
    "3. 2012\n",
    "4. 2010\n",
    "5. 2015"
   ]
  },
  {
   "cell_type": "code",
   "execution_count": 57,
   "metadata": {},
   "outputs": [
    {
     "data": {
      "text/plain": [
       "release_year\n",
       "2015    18668572378\n",
       "2014    16397812953\n",
       "2012    16077001687\n",
       "2013    15243179791\n",
       "2011    14730241341\n",
       "Name: profit, dtype: int64"
      ]
     },
     "metadata": {},
     "output_type": "display_data"
    }
   ],
   "source": [
    "df = data[data.production_companies.str.contains('Warner Bros')]\n",
    "df_gr = data.groupby([data.release_year])[\n",
    "    'profit'].sum().sort_values(ascending=False)\n",
    "display(df_gr.head())"
   ]
  },
  {
   "cell_type": "code",
   "execution_count": 58,
   "metadata": {},
   "outputs": [],
   "source": [
    "answer_ls.append(5)"
   ]
  },
  {
   "cell_type": "markdown",
   "metadata": {},
   "source": [
    "# 27. В каком месяце за все годы суммарно вышло больше всего фильмов?\n",
    "Варианты ответа:\n",
    "1. Январь\n",
    "2. Июнь\n",
    "3. Декабрь\n",
    "4. Сентябрь\n",
    "5. Май"
   ]
  },
  {
   "cell_type": "code",
   "execution_count": 59,
   "metadata": {},
   "outputs": [
    {
     "data": {
      "text/plain": [
       "9     227\n",
       "12    191\n",
       "10    186\n",
       "8     161\n",
       "3     156\n",
       "4     149\n",
       "6     147\n",
       "11    146\n",
       "7     142\n",
       "5     140\n",
       "2     135\n",
       "1     110\n",
       "Name: release_month, dtype: int64"
      ]
     },
     "execution_count": 59,
     "metadata": {},
     "output_type": "execute_result"
    }
   ],
   "source": [
    "data['datetime_release'] = data.release_date.apply(pd.to_datetime)\n",
    "data['release_month'] = data.datetime_release.apply(\n",
    "    lambda datetime: datetime.month)\n",
    "data.release_month.value_counts()"
   ]
  },
  {
   "cell_type": "code",
   "execution_count": 60,
   "metadata": {},
   "outputs": [],
   "source": [
    "answer_ls.append(4)"
   ]
  },
  {
   "cell_type": "markdown",
   "metadata": {},
   "source": [
    "# 28. Сколько суммарно вышло фильмов летом? (за июнь, июль, август)\n",
    "Варианты ответа:\n",
    "1. 345\n",
    "2. 450\n",
    "3. 478\n",
    "4. 523\n",
    "5. 381"
   ]
  },
  {
   "cell_type": "code",
   "execution_count": 61,
   "metadata": {},
   "outputs": [
    {
     "name": "stdout",
     "output_type": "stream",
     "text": [
      "9     227\n",
      "12    191\n",
      "10    186\n",
      "8     161\n",
      "3     156\n",
      "4     149\n",
      "6     147\n",
      "11    146\n",
      "7     142\n",
      "5     140\n",
      "2     135\n",
      "1     110\n",
      "Name: release_month, dtype: int64\n"
     ]
    },
    {
     "data": {
      "text/plain": [
       "450"
      ]
     },
     "execution_count": 61,
     "metadata": {},
     "output_type": "execute_result"
    }
   ],
   "source": [
    "data['datetime_release'] = data.release_date.apply(pd.to_datetime)\n",
    "data['release_month'] = data.datetime_release.apply(\n",
    "    lambda datetime: datetime.month)\n",
    "movie_counts = data.release_month.value_counts()\n",
    "print(movie_counts)\n",
    "sum([movie_counts.values[i] for i in range(len(movie_counts.index))\n",
    "     if movie_counts.index[i] in [6, 7, 8]])"
   ]
  },
  {
   "cell_type": "code",
   "execution_count": 62,
   "metadata": {},
   "outputs": [],
   "source": [
    "answer_ls.append(2)"
   ]
  },
  {
   "cell_type": "markdown",
   "metadata": {},
   "source": [
    "# 29. Какой режисер выпускает (суммарно по годам) больше всего фильмов зимой?\n",
    "Варианты ответов:\n",
    "1. Steven Soderbergh\n",
    "2. Christopher Nolan\n",
    "3. Clint Eastwood\n",
    "4. Ridley Scott\n",
    "5. Peter Jackson"
   ]
  },
  {
   "cell_type": "code",
   "execution_count": 63,
   "metadata": {},
   "outputs": [
    {
     "name": "stdout",
     "output_type": "stream",
     "text": [
      "[('Peter Jackson', 7), ('Clint Eastwood', 6), ('Steven Soderbergh', 6), ('Shawn Levy', 4), ('Nancy Meyers', 4)]\n"
     ]
    }
   ],
   "source": [
    "df = data[data.release_month.isin((12, 1, 2))]\n",
    "df.head(3)\n",
    "c = Counter()\n",
    "for i in range(len(df)):\n",
    "    for director_name in df.iloc[i].director.split(\"|\"):\n",
    "        c[director_name] += 1\n",
    "print(c.most_common(5))"
   ]
  },
  {
   "cell_type": "code",
   "execution_count": 64,
   "metadata": {},
   "outputs": [],
   "source": [
    "answer_ls.append(5)"
   ]
  },
  {
   "cell_type": "markdown",
   "metadata": {},
   "source": [
    "# 30. Какой месяц чаще всего по годам самый прибыльный?\n",
    "Варианты ответа:\n",
    "1. Январь\n",
    "2. Июнь\n",
    "3. Декабрь\n",
    "4. Сентябрь\n",
    "5. Май"
   ]
  },
  {
   "cell_type": "code",
   "execution_count": 65,
   "metadata": {},
   "outputs": [
    {
     "data": {
      "text/html": [
       "<div>\n",
       "<style scoped>\n",
       "    .dataframe tbody tr th:only-of-type {\n",
       "        vertical-align: middle;\n",
       "    }\n",
       "\n",
       "    .dataframe tbody tr th {\n",
       "        vertical-align: top;\n",
       "    }\n",
       "\n",
       "    .dataframe thead tr th {\n",
       "        text-align: left;\n",
       "    }\n",
       "\n",
       "    .dataframe thead tr:last-of-type th {\n",
       "        text-align: right;\n",
       "    }\n",
       "</style>\n",
       "<table border=\"1\" class=\"dataframe\">\n",
       "  <thead>\n",
       "    <tr>\n",
       "      <th></th>\n",
       "      <th colspan=\"12\" halign=\"left\">profit</th>\n",
       "    </tr>\n",
       "    <tr>\n",
       "      <th>release_month</th>\n",
       "      <th>1</th>\n",
       "      <th>2</th>\n",
       "      <th>3</th>\n",
       "      <th>4</th>\n",
       "      <th>5</th>\n",
       "      <th>6</th>\n",
       "      <th>7</th>\n",
       "      <th>8</th>\n",
       "      <th>9</th>\n",
       "      <th>10</th>\n",
       "      <th>11</th>\n",
       "      <th>12</th>\n",
       "    </tr>\n",
       "    <tr>\n",
       "      <th>release_year</th>\n",
       "      <th></th>\n",
       "      <th></th>\n",
       "      <th></th>\n",
       "      <th></th>\n",
       "      <th></th>\n",
       "      <th></th>\n",
       "      <th></th>\n",
       "      <th></th>\n",
       "      <th></th>\n",
       "      <th></th>\n",
       "      <th></th>\n",
       "      <th></th>\n",
       "    </tr>\n",
       "  </thead>\n",
       "  <tbody>\n",
       "    <tr>\n",
       "      <th>2000</th>\n",
       "      <td>-26344591</td>\n",
       "      <td>310137593</td>\n",
       "      <td>490709929</td>\n",
       "      <td>124362846</td>\n",
       "      <td>1382722190</td>\n",
       "      <td>517315528</td>\n",
       "      <td>563809888</td>\n",
       "      <td>264018332</td>\n",
       "      <td>175306761</td>\n",
       "      <td>399938512</td>\n",
       "      <td>487934818</td>\n",
       "      <td>1411487999</td>\n",
       "    </tr>\n",
       "    <tr>\n",
       "      <th>2001</th>\n",
       "      <td>127876758</td>\n",
       "      <td>178360689</td>\n",
       "      <td>396218262</td>\n",
       "      <td>659725033</td>\n",
       "      <td>767934975</td>\n",
       "      <td>780612105</td>\n",
       "      <td>873718941</td>\n",
       "      <td>726979609</td>\n",
       "      <td>21874909</td>\n",
       "      <td>146204533</td>\n",
       "      <td>1567240927</td>\n",
       "      <td>1703868124</td>\n",
       "    </tr>\n",
       "    <tr>\n",
       "      <th>2002</th>\n",
       "      <td>13657034</td>\n",
       "      <td>557847442</td>\n",
       "      <td>832386092</td>\n",
       "      <td>343737203</td>\n",
       "      <td>1421928692</td>\n",
       "      <td>747704475</td>\n",
       "      <td>629306797</td>\n",
       "      <td>579318434</td>\n",
       "      <td>417267245</td>\n",
       "      <td>420527680</td>\n",
       "      <td>1190606216</td>\n",
       "      <td>1848074177</td>\n",
       "    </tr>\n",
       "    <tr>\n",
       "      <th>2003</th>\n",
       "      <td>145423503</td>\n",
       "      <td>422979087</td>\n",
       "      <td>160261385</td>\n",
       "      <td>479653942</td>\n",
       "      <td>2000292657</td>\n",
       "      <td>406445507</td>\n",
       "      <td>1356384641</td>\n",
       "      <td>444992536</td>\n",
       "      <td>503313816</td>\n",
       "      <td>837090991</td>\n",
       "      <td>609390731</td>\n",
       "      <td>1862594516</td>\n",
       "    </tr>\n",
       "    <tr>\n",
       "      <th>2004</th>\n",
       "      <td>223449403</td>\n",
       "      <td>727540831</td>\n",
       "      <td>307233119</td>\n",
       "      <td>275005057</td>\n",
       "      <td>2412578839</td>\n",
       "      <td>1294266591</td>\n",
       "      <td>834850950</td>\n",
       "      <td>332763539</td>\n",
       "      <td>475369751</td>\n",
       "      <td>593314410</td>\n",
       "      <td>1050846495</td>\n",
       "      <td>1106961735</td>\n",
       "    </tr>\n",
       "    <tr>\n",
       "      <th>2005</th>\n",
       "      <td>419099490</td>\n",
       "      <td>506931359</td>\n",
       "      <td>440128754</td>\n",
       "      <td>178673498</td>\n",
       "      <td>1575566228</td>\n",
       "      <td>1193230558</td>\n",
       "      <td>870215460</td>\n",
       "      <td>266644459</td>\n",
       "      <td>995622427</td>\n",
       "      <td>154493344</td>\n",
       "      <td>1027204825</td>\n",
       "      <td>1354115156</td>\n",
       "    </tr>\n",
       "    <tr>\n",
       "      <th>2006</th>\n",
       "      <td>138996816</td>\n",
       "      <td>317624889</td>\n",
       "      <td>799504296</td>\n",
       "      <td>361121653</td>\n",
       "      <td>985092012</td>\n",
       "      <td>2098059770</td>\n",
       "      <td>242337901</td>\n",
       "      <td>429249082</td>\n",
       "      <td>451456811</td>\n",
       "      <td>826087838</td>\n",
       "      <td>1106305898</td>\n",
       "      <td>935240354</td>\n",
       "    </tr>\n",
       "    <tr>\n",
       "      <th>2007</th>\n",
       "      <td>91188025</td>\n",
       "      <td>500661304</td>\n",
       "      <td>714586308</td>\n",
       "      <td>143245753</td>\n",
       "      <td>2042169546</td>\n",
       "      <td>2764341802</td>\n",
       "      <td>747619985</td>\n",
       "      <td>881421482</td>\n",
       "      <td>435838557</td>\n",
       "      <td>516228592</td>\n",
       "      <td>896805244</td>\n",
       "      <td>1831805203</td>\n",
       "    </tr>\n",
       "    <tr>\n",
       "      <th>2008</th>\n",
       "      <td>440344541</td>\n",
       "      <td>987454669</td>\n",
       "      <td>251671904</td>\n",
       "      <td>720571689</td>\n",
       "      <td>1744305931</td>\n",
       "      <td>1943384763</td>\n",
       "      <td>1791301749</td>\n",
       "      <td>325382603</td>\n",
       "      <td>339476350</td>\n",
       "      <td>1145762453</td>\n",
       "      <td>847289768</td>\n",
       "      <td>1126935570</td>\n",
       "    </tr>\n",
       "    <tr>\n",
       "      <th>2009</th>\n",
       "      <td>996529660</td>\n",
       "      <td>326413800</td>\n",
       "      <td>1276096794</td>\n",
       "      <td>651749767</td>\n",
       "      <td>1435747314</td>\n",
       "      <td>1520284741</td>\n",
       "      <td>1202339588</td>\n",
       "      <td>803565587</td>\n",
       "      <td>393041320</td>\n",
       "      <td>836577088</td>\n",
       "      <td>558158975</td>\n",
       "      <td>3423239738</td>\n",
       "    </tr>\n",
       "    <tr>\n",
       "      <th>2010</th>\n",
       "      <td>233051923</td>\n",
       "      <td>671341193</td>\n",
       "      <td>1471122239</td>\n",
       "      <td>841530415</td>\n",
       "      <td>1105092975</td>\n",
       "      <td>2449561498</td>\n",
       "      <td>1567485183</td>\n",
       "      <td>971023396</td>\n",
       "      <td>1091274243</td>\n",
       "      <td>1080204976</td>\n",
       "      <td>736020890</td>\n",
       "      <td>899583599</td>\n",
       "    </tr>\n",
       "    <tr>\n",
       "      <th>2011</th>\n",
       "      <td>591644835</td>\n",
       "      <td>642751509</td>\n",
       "      <td>1443419914</td>\n",
       "      <td>1507477958</td>\n",
       "      <td>1917491757</td>\n",
       "      <td>1524706926</td>\n",
       "      <td>2331661017</td>\n",
       "      <td>667283164</td>\n",
       "      <td>733166385</td>\n",
       "      <td>968743489</td>\n",
       "      <td>859313689</td>\n",
       "      <td>1542580698</td>\n",
       "    </tr>\n",
       "    <tr>\n",
       "      <th>2012</th>\n",
       "      <td>381045653</td>\n",
       "      <td>573073426</td>\n",
       "      <td>1459834347</td>\n",
       "      <td>1767272417</td>\n",
       "      <td>1140614925</td>\n",
       "      <td>2965481705</td>\n",
       "      <td>940512033</td>\n",
       "      <td>702588445</td>\n",
       "      <td>1308166465</td>\n",
       "      <td>1320250459</td>\n",
       "      <td>2412991475</td>\n",
       "      <td>1105170337</td>\n",
       "    </tr>\n",
       "    <tr>\n",
       "      <th>2013</th>\n",
       "      <td>449051535</td>\n",
       "      <td>509981099</td>\n",
       "      <td>970223425</td>\n",
       "      <td>1423545114</td>\n",
       "      <td>1724496337</td>\n",
       "      <td>2411922008</td>\n",
       "      <td>1192996016</td>\n",
       "      <td>590070005</td>\n",
       "      <td>1165693297</td>\n",
       "      <td>1042812263</td>\n",
       "      <td>2047380217</td>\n",
       "      <td>1715008475</td>\n",
       "    </tr>\n",
       "    <tr>\n",
       "      <th>2014</th>\n",
       "      <td>541637085</td>\n",
       "      <td>736685970</td>\n",
       "      <td>1768873778</td>\n",
       "      <td>795767674</td>\n",
       "      <td>2279978281</td>\n",
       "      <td>1176264662</td>\n",
       "      <td>1611081683</td>\n",
       "      <td>1163610627</td>\n",
       "      <td>596366679</td>\n",
       "      <td>1764509467</td>\n",
       "      <td>2043956761</td>\n",
       "      <td>1919080286</td>\n",
       "    </tr>\n",
       "    <tr>\n",
       "      <th>2015</th>\n",
       "      <td>630233784</td>\n",
       "      <td>884789565</td>\n",
       "      <td>937945994</td>\n",
       "      <td>2602565518</td>\n",
       "      <td>1103503482</td>\n",
       "      <td>3757679861</td>\n",
       "      <td>1552273188</td>\n",
       "      <td>491699146</td>\n",
       "      <td>1775686025</td>\n",
       "      <td>942161764</td>\n",
       "      <td>1212708544</td>\n",
       "      <td>2777325507</td>\n",
       "    </tr>\n",
       "  </tbody>\n",
       "</table>\n",
       "</div>"
      ],
      "text/plain": [
       "                  profit                                                 \\\n",
       "release_month         1          2           3           4           5    \n",
       "release_year                                                              \n",
       "2000           -26344591  310137593   490709929   124362846  1382722190   \n",
       "2001           127876758  178360689   396218262   659725033   767934975   \n",
       "2002            13657034  557847442   832386092   343737203  1421928692   \n",
       "2003           145423503  422979087   160261385   479653942  2000292657   \n",
       "2004           223449403  727540831   307233119   275005057  2412578839   \n",
       "2005           419099490  506931359   440128754   178673498  1575566228   \n",
       "2006           138996816  317624889   799504296   361121653   985092012   \n",
       "2007            91188025  500661304   714586308   143245753  2042169546   \n",
       "2008           440344541  987454669   251671904   720571689  1744305931   \n",
       "2009           996529660  326413800  1276096794   651749767  1435747314   \n",
       "2010           233051923  671341193  1471122239   841530415  1105092975   \n",
       "2011           591644835  642751509  1443419914  1507477958  1917491757   \n",
       "2012           381045653  573073426  1459834347  1767272417  1140614925   \n",
       "2013           449051535  509981099   970223425  1423545114  1724496337   \n",
       "2014           541637085  736685970  1768873778   795767674  2279978281   \n",
       "2015           630233784  884789565   937945994  2602565518  1103503482   \n",
       "\n",
       "                                                                           \\\n",
       "release_month          6           7           8           9           10   \n",
       "release_year                                                                \n",
       "2000            517315528   563809888   264018332   175306761   399938512   \n",
       "2001            780612105   873718941   726979609    21874909   146204533   \n",
       "2002            747704475   629306797   579318434   417267245   420527680   \n",
       "2003            406445507  1356384641   444992536   503313816   837090991   \n",
       "2004           1294266591   834850950   332763539   475369751   593314410   \n",
       "2005           1193230558   870215460   266644459   995622427   154493344   \n",
       "2006           2098059770   242337901   429249082   451456811   826087838   \n",
       "2007           2764341802   747619985   881421482   435838557   516228592   \n",
       "2008           1943384763  1791301749   325382603   339476350  1145762453   \n",
       "2009           1520284741  1202339588   803565587   393041320   836577088   \n",
       "2010           2449561498  1567485183   971023396  1091274243  1080204976   \n",
       "2011           1524706926  2331661017   667283164   733166385   968743489   \n",
       "2012           2965481705   940512033   702588445  1308166465  1320250459   \n",
       "2013           2411922008  1192996016   590070005  1165693297  1042812263   \n",
       "2014           1176264662  1611081683  1163610627   596366679  1764509467   \n",
       "2015           3757679861  1552273188   491699146  1775686025   942161764   \n",
       "\n",
       "                                       \n",
       "release_month          11          12  \n",
       "release_year                           \n",
       "2000            487934818  1411487999  \n",
       "2001           1567240927  1703868124  \n",
       "2002           1190606216  1848074177  \n",
       "2003            609390731  1862594516  \n",
       "2004           1050846495  1106961735  \n",
       "2005           1027204825  1354115156  \n",
       "2006           1106305898   935240354  \n",
       "2007            896805244  1831805203  \n",
       "2008            847289768  1126935570  \n",
       "2009            558158975  3423239738  \n",
       "2010            736020890   899583599  \n",
       "2011            859313689  1542580698  \n",
       "2012           2412991475  1105170337  \n",
       "2013           2047380217  1715008475  \n",
       "2014           2043956761  1919080286  \n",
       "2015           1212708544  2777325507  "
      ]
     },
     "metadata": {},
     "output_type": "display_data"
    },
    {
     "data": {
      "text/plain": [
       "release_year\n",
       "2000    (profit, 12)\n",
       "2001    (profit, 12)\n",
       "2002    (profit, 12)\n",
       "2003     (profit, 5)\n",
       "2004     (profit, 5)\n",
       "2005     (profit, 5)\n",
       "2006     (profit, 6)\n",
       "2007     (profit, 6)\n",
       "2008     (profit, 6)\n",
       "2009    (profit, 12)\n",
       "2010     (profit, 6)\n",
       "2011     (profit, 7)\n",
       "2012     (profit, 6)\n",
       "2013     (profit, 6)\n",
       "2014     (profit, 5)\n",
       "2015     (profit, 6)\n",
       "dtype: object"
      ]
     },
     "metadata": {},
     "output_type": "display_data"
    },
    {
     "data": {
      "text/plain": [
       "(profit, 6)     7\n",
       "(profit, 12)    4\n",
       "(profit, 5)     4\n",
       "(profit, 7)     1\n",
       "dtype: int64"
      ]
     },
     "metadata": {},
     "output_type": "display_data"
    }
   ],
   "source": [
    "data.head(3)\n",
    "pivot = data.pivot_table(index=['release_year'],\n",
    "                         columns=['release_month'], values=['profit'], aggfunc='sum')\n",
    "display(pivot)\n",
    "display(pivot.idxmax(axis=1))\n",
    "display(pivot.idxmax(axis=1).value_counts())"
   ]
  },
  {
   "cell_type": "code",
   "execution_count": 66,
   "metadata": {},
   "outputs": [],
   "source": [
    "answer_ls.append(2)"
   ]
  },
  {
   "cell_type": "markdown",
   "metadata": {},
   "source": [
    "# 31. Названия фильмов какой студии в среднем самые длинные по количеству символов?\n",
    "Варианты ответа:\n",
    "1. Universal Pictures (Universal)\n",
    "2. Warner Bros\n",
    "3. Jim Henson Company, The\n",
    "4. Paramount Pictures\n",
    "5. Four By Two Productions"
   ]
  },
  {
   "cell_type": "code",
   "execution_count": 67,
   "metadata": {},
   "outputs": [],
   "source": [
    "# Этот подход не сработал\n",
    "# company_movie_title_len_dict = dict()\n",
    "# for i in range(len(data)):\n",
    "#     for comp_name in data.iloc[i].production_companies.split('|'):\n",
    "#         if comp_name not in company_movie_title_len_dict:\n",
    "#             company_movie_title_len_dict[comp_name] = []\n",
    "#         else:\n",
    "#             company_movie_title_len_dict[comp_name].append(len(data.iloc[i].original_title))\n",
    "\n",
    "# title_av_len_dict = {comp_name: np.mean(L) for comp_name, L in company_movie_title_len_dict.items()}\n",
    "# max_in_dict = ['',0]\n",
    "# for name, value in title_av_len_dict.items():\n",
    "#     if value > max_in_dict[1]:\n",
    "#         max_in_dict = [name,value]\n",
    "# print(title_av_len_dict)"
   ]
  },
  {
   "cell_type": "code",
   "execution_count": 68,
   "metadata": {},
   "outputs": [
    {
     "data": {
      "text/plain": [
       "company_name\n",
       "Four By Two Productions       83.0\n",
       "Jim Henson Company, The       59.0\n",
       "Dos Corazones                 47.0\n",
       "Polsky Films                  46.0\n",
       "Museum Canada Productions     46.0\n",
       "                              ... \n",
       "Everest Entertainment          3.0\n",
       "Berlanti Productions           3.0\n",
       "XM2 Productions                2.0\n",
       "Ixtlan Productions             2.0\n",
       "Global Entertainment Group     2.0\n",
       "Name: title_len, Length: 1772, dtype: float64"
      ]
     },
     "execution_count": 68,
     "metadata": {},
     "output_type": "execute_result"
    }
   ],
   "source": [
    "data['title_len'] = data.original_title.apply(lambda s: len(s))\n",
    "list_comp_names = []\n",
    "list_title_len = []\n",
    "for i in range(len(data)):\n",
    "    for comp_name in data.iloc[i].production_companies.split(\"|\"):\n",
    "        list_comp_names.append(comp_name)\n",
    "        list_title_len.append(data.iloc[i].title_len)\n",
    "df = pd.DataFrame({'company_name': list_comp_names,\n",
    "                   'title_len': list_title_len})\n",
    "df.groupby(['company_name'])['title_len'].mean().sort_values(ascending=False)"
   ]
  },
  {
   "cell_type": "code",
   "execution_count": 69,
   "metadata": {},
   "outputs": [],
   "source": [
    "answer_ls.append(5)"
   ]
  },
  {
   "cell_type": "markdown",
   "metadata": {},
   "source": [
    "# 32. Названия фильмов какой студии в среднем самые длинные по количеству слов?\n",
    "Варианты ответа:\n",
    "1. Universal Pictures (Universal)\n",
    "2. Warner Bros\n",
    "3. Jim Henson Company, The\n",
    "4. Paramount Pictures\n",
    "5. Four By Two Productions"
   ]
  },
  {
   "cell_type": "code",
   "execution_count": 70,
   "metadata": {},
   "outputs": [
    {
     "data": {
      "text/plain": [
       "company_name\n",
       "Four By Two Productions                  12.0\n",
       "Jim Henson Company, The                  10.0\n",
       "Polsky Films                              9.0\n",
       "The Saul Zaentz Company                   9.0\n",
       "Dos Corazones                             9.0\n",
       "                                         ... \n",
       "Many Rivers Productions                   1.0\n",
       "Maple Shade Films                         1.0\n",
       "Blue Productions                          1.0\n",
       "Blue Sea Productions                      1.0\n",
       "Great Wight Productions/ Osford Films     1.0\n",
       "Name: title_len, Length: 1772, dtype: float64"
      ]
     },
     "execution_count": 70,
     "metadata": {},
     "output_type": "execute_result"
    }
   ],
   "source": [
    "data['title_words_len'] = data.original_title.apply(\n",
    "    lambda s: len(s.split(\" \")))\n",
    "list_comp_names = []\n",
    "list_title_len = []\n",
    "for i in range(len(data)):\n",
    "    for comp_name in data.iloc[i].production_companies.split(\"|\"):\n",
    "        list_comp_names.append(comp_name)\n",
    "        list_title_len.append(data.iloc[i].title_words_len)\n",
    "df = pd.DataFrame({'company_name': list_comp_names,\n",
    "                   'title_len': list_title_len})\n",
    "df.groupby(['company_name'])['title_len'].mean().sort_values(ascending=False)"
   ]
  },
  {
   "cell_type": "code",
   "execution_count": 71,
   "metadata": {},
   "outputs": [],
   "source": [
    "answer_ls.append(5)"
   ]
  },
  {
   "cell_type": "markdown",
   "metadata": {},
   "source": [
    "# 33. Сколько разных слов используется в названиях фильмов?(без учета регистра)\n",
    "Варианты ответа:\n",
    "1. 6540\n",
    "2. 1002\n",
    "3. 2461\n",
    "4. 28304\n",
    "5. 3432"
   ]
  },
  {
   "cell_type": "code",
   "execution_count": 72,
   "metadata": {},
   "outputs": [
    {
     "name": "stdout",
     "output_type": "stream",
     "text": [
      "2462\n",
      "5138\n"
     ]
    }
   ],
   "source": [
    "words_list = []\n",
    "for i in range(len(data)):\n",
    "    for word in data.iloc[i].original_title.split(\" \"):\n",
    "        words_list.append(word.lower())\n",
    "print(len(set(words_list)))\n",
    "print(len(words_list))"
   ]
  },
  {
   "cell_type": "code",
   "execution_count": 73,
   "metadata": {},
   "outputs": [],
   "source": [
    "answer_ls.append(3)"
   ]
  },
  {
   "cell_type": "markdown",
   "metadata": {},
   "source": [
    "# 34. Какие фильмы входят в 1 процент лучших по рейтингу?\n",
    "Варианты ответа:\n",
    "1. Inside Out, Gone Girl, 12 Years a Slave\n",
    "2. BloodRayne, The Adventures of Rocky & Bullwinkle\n",
    "3. The Lord of the Rings: The Return of the King\n",
    "4. 300, Lucky Number Slevin"
   ]
  },
  {
   "cell_type": "code",
   "execution_count": 74,
   "metadata": {},
   "outputs": [
    {
     "data": {
      "text/plain": [
       "9                                          Inside Out\n",
       "34                                               Room\n",
       "118                                      Interstellar\n",
       "119                           Guardians of the Galaxy\n",
       "125                                The Imitation Game\n",
       "128                                         Gone Girl\n",
       "138                          The Grand Budapest Hotel\n",
       "370                                         Inception\n",
       "600                                   The Dark Knight\n",
       "873                                       The Pianist\n",
       "1082    The Lord of the Rings: The Return of the King\n",
       "1184                          The Wolf of Wall Street\n",
       "1192                                 12 Years a Slave\n",
       "1801                                          Memento\n",
       "Name: original_title, dtype: object"
      ]
     },
     "execution_count": 74,
     "metadata": {},
     "output_type": "execute_result"
    }
   ],
   "source": [
    "# print(data.vote_average.quantile(0.99))\n",
    "# data.vote_average.value_counts(normalize=True)\n",
    "data[data.vote_average > data.vote_average.quantile(0.99)].original_title"
   ]
  },
  {
   "cell_type": "code",
   "execution_count": 75,
   "metadata": {},
   "outputs": [],
   "source": [
    "answer_ls.append(1)"
   ]
  },
  {
   "cell_type": "markdown",
   "metadata": {},
   "source": [
    "# 35. Какие актеры чаще всего снимаются в одном фильме вместе\n",
    "Варианты ответа:\n",
    "1. Johnny Depp & Helena Bonham Carter\n",
    "2. Hugh Jackman & Ian McKellen\n",
    "3. Vin Diesel & Paul Walker\n",
    "4. Adam Sandler & Kevin James\n",
    "5. Daniel Radcliffe & Rupert Grint"
   ]
  },
  {
   "cell_type": "code",
   "execution_count": 76,
   "metadata": {},
   "outputs": [],
   "source": [
    "from itertools import combinations"
   ]
  },
  {
   "cell_type": "code",
   "execution_count": 77,
   "metadata": {},
   "outputs": [
    {
     "name": "stdout",
     "output_type": "stream",
     "text": [
      "[(('Daniel Radcliffe', 'Rupert Grint'), 8), (('Daniel Radcliffe', 'Emma Watson'), 8), (('Rupert Grint', 'Emma Watson'), 7), (('Ben Stiller', 'Owen Wilson'), 6), (('Johnny Depp', 'Helena Bonham Carter'), 6)]\n"
     ]
    }
   ],
   "source": [
    "c = Counter()\n",
    "df = data.cast.apply(lambda s: list(combinations(s.split(\"|\"), 2)))\n",
    "\n",
    "for i in range(len(df)):\n",
    "    for actors_pair in df[i]:\n",
    "        c[actors_pair] += 1\n",
    "print(c.most_common(5))"
   ]
  },
  {
   "cell_type": "code",
   "execution_count": 78,
   "metadata": {},
   "outputs": [],
   "source": [
    "answer_ls.append(5)"
   ]
  },
  {
   "cell_type": "markdown",
   "metadata": {},
   "source": [
    "# 36. У какого из режиссеров выше вероятность выпустить фильм в прибыли? (5 баллов)101\n",
    "Варианты ответа:\n",
    "1. Quentin Tarantino\n",
    "2. Steven Soderbergh\n",
    "3. Robert Rodriguez\n",
    "4. Christopher Nolan\n",
    "5. Clint Eastwood"
   ]
  },
  {
   "cell_type": "code",
   "execution_count": 79,
   "metadata": {},
   "outputs": [
    {
     "data": {
      "text/plain": [
       "company_name\n",
       "Four By Two Productions                  12.0\n",
       "Jim Henson Company, The                  10.0\n",
       "Polsky Films                              9.0\n",
       "The Saul Zaentz Company                   9.0\n",
       "Dos Corazones                             9.0\n",
       "                                         ... \n",
       "Many Rivers Productions                   1.0\n",
       "Maple Shade Films                         1.0\n",
       "Blue Productions                          1.0\n",
       "Blue Sea Productions                      1.0\n",
       "Great Wight Productions/ Osford Films     1.0\n",
       "Name: title_len, Length: 1772, dtype: float64"
      ]
     },
     "execution_count": 79,
     "metadata": {},
     "output_type": "execute_result"
    }
   ],
   "source": [
    "data['title_words_len'] = data.original_title.apply(\n",
    "    lambda s: len(s.split(\" \")))\n",
    "list_comp_names = []\n",
    "list_title_len = []\n",
    "for i in range(len(data)):\n",
    "    for comp_name in data.iloc[i].production_companies.split(\"|\"):\n",
    "        list_comp_names.append(comp_name)\n",
    "        list_title_len.append(data.iloc[i].title_words_len)\n",
    "df = pd.DataFrame({'company_name': list_comp_names,\n",
    "                   'title_len': list_title_len})\n",
    "df.groupby(['company_name'])['title_len'].mean().sort_values(ascending=False)"
   ]
  },
  {
   "cell_type": "code",
   "execution_count": 80,
   "metadata": {},
   "outputs": [
    {
     "data": {
      "text/plain": [
       "director           is_profit\n",
       "Christopher Nolan  1            1.000000\n",
       "Clint Eastwood     1            0.833333\n",
       "                   0            0.166667\n",
       "Quentin Tarantino  1            0.857143\n",
       "                   0            0.142857\n",
       "Robert Rodriguez   1            0.727273\n",
       "                   0            0.272727\n",
       "Steven Soderbergh  1            0.769231\n",
       "                   0            0.230769\n",
       "Name: is_profit, dtype: float64"
      ]
     },
     "execution_count": 80,
     "metadata": {},
     "output_type": "execute_result"
    }
   ],
   "source": [
    "list_directors = []\n",
    "list_profit = []\n",
    "for i in range(len(data)):\n",
    "    for director in data.iloc[i].director.split(\"|\"):\n",
    "        list_directors.append(director)\n",
    "        if data.iloc[i].profit > 0:\n",
    "            list_profit.append(1)\n",
    "        else:\n",
    "            list_profit.append(0)\n",
    "df = pd.DataFrame({'director': list_directors, 'is_profit': list_profit})\n",
    "df = df[df.director.isin(['Quentin Tarantino', 'Steven Soderbergh',\n",
    "                          'Robert Rodriguez', 'Christopher Nolan', 'Clint Eastwood'])]\n",
    "df.groupby(['director'])['is_profit'].value_counts(normalize=True)\n",
    "# вариант решения получился не до конца верным, потому что взял из представленных вариантов\n",
    "# для правильного варианта стоит только разобраться, как вывести правильно отсортированные значения\n",
    "# в следующей строке, потому что он сортирует не для каждого режиссера по is_profit\n",
    "# df.groupby(['director'])['is_profit'].value_counts().sort_values(ascending=False)"
   ]
  },
  {
   "cell_type": "code",
   "execution_count": 81,
   "metadata": {},
   "outputs": [],
   "source": [
    "answer_ls.append(4)"
   ]
  },
  {
   "cell_type": "markdown",
   "metadata": {},
   "source": [
    "# Submission"
   ]
  },
  {
   "cell_type": "code",
   "execution_count": 82,
   "metadata": {},
   "outputs": [
    {
     "data": {
      "text/plain": [
       "36"
      ]
     },
     "execution_count": 82,
     "metadata": {},
     "output_type": "execute_result"
    }
   ],
   "source": [
    "len(answer_ls)"
   ]
  },
  {
   "cell_type": "code",
   "execution_count": 83,
   "metadata": {},
   "outputs": [
    {
     "data": {
      "text/html": [
       "<div>\n",
       "<style scoped>\n",
       "    .dataframe tbody tr th:only-of-type {\n",
       "        vertical-align: middle;\n",
       "    }\n",
       "\n",
       "    .dataframe tbody tr th {\n",
       "        vertical-align: top;\n",
       "    }\n",
       "\n",
       "    .dataframe thead th {\n",
       "        text-align: right;\n",
       "    }\n",
       "</style>\n",
       "<table border=\"1\" class=\"dataframe\">\n",
       "  <thead>\n",
       "    <tr style=\"text-align: right;\">\n",
       "      <th></th>\n",
       "      <th>Id</th>\n",
       "      <th>Answer</th>\n",
       "    </tr>\n",
       "  </thead>\n",
       "  <tbody>\n",
       "    <tr>\n",
       "      <th>0</th>\n",
       "      <td>1</td>\n",
       "      <td>4</td>\n",
       "    </tr>\n",
       "    <tr>\n",
       "      <th>1</th>\n",
       "      <td>2</td>\n",
       "      <td>2</td>\n",
       "    </tr>\n",
       "    <tr>\n",
       "      <th>2</th>\n",
       "      <td>3</td>\n",
       "      <td>3</td>\n",
       "    </tr>\n",
       "    <tr>\n",
       "      <th>3</th>\n",
       "      <td>4</td>\n",
       "      <td>2</td>\n",
       "    </tr>\n",
       "    <tr>\n",
       "      <th>4</th>\n",
       "      <td>5</td>\n",
       "      <td>1</td>\n",
       "    </tr>\n",
       "    <tr>\n",
       "      <th>5</th>\n",
       "      <td>6</td>\n",
       "      <td>5</td>\n",
       "    </tr>\n",
       "    <tr>\n",
       "      <th>6</th>\n",
       "      <td>7</td>\n",
       "      <td>2</td>\n",
       "    </tr>\n",
       "    <tr>\n",
       "      <th>7</th>\n",
       "      <td>8</td>\n",
       "      <td>1</td>\n",
       "    </tr>\n",
       "    <tr>\n",
       "      <th>8</th>\n",
       "      <td>9</td>\n",
       "      <td>4</td>\n",
       "    </tr>\n",
       "    <tr>\n",
       "      <th>9</th>\n",
       "      <td>10</td>\n",
       "      <td>5</td>\n",
       "    </tr>\n",
       "    <tr>\n",
       "      <th>10</th>\n",
       "      <td>11</td>\n",
       "      <td>3</td>\n",
       "    </tr>\n",
       "    <tr>\n",
       "      <th>11</th>\n",
       "      <td>12</td>\n",
       "      <td>1</td>\n",
       "    </tr>\n",
       "    <tr>\n",
       "      <th>12</th>\n",
       "      <td>13</td>\n",
       "      <td>3</td>\n",
       "    </tr>\n",
       "    <tr>\n",
       "      <th>13</th>\n",
       "      <td>14</td>\n",
       "      <td>4</td>\n",
       "    </tr>\n",
       "    <tr>\n",
       "      <th>14</th>\n",
       "      <td>15</td>\n",
       "      <td>5</td>\n",
       "    </tr>\n",
       "    <tr>\n",
       "      <th>15</th>\n",
       "      <td>16</td>\n",
       "      <td>1</td>\n",
       "    </tr>\n",
       "    <tr>\n",
       "      <th>16</th>\n",
       "      <td>17</td>\n",
       "      <td>3</td>\n",
       "    </tr>\n",
       "    <tr>\n",
       "      <th>17</th>\n",
       "      <td>18</td>\n",
       "      <td>3</td>\n",
       "    </tr>\n",
       "    <tr>\n",
       "      <th>18</th>\n",
       "      <td>19</td>\n",
       "      <td>2</td>\n",
       "    </tr>\n",
       "    <tr>\n",
       "      <th>19</th>\n",
       "      <td>20</td>\n",
       "      <td>1</td>\n",
       "    </tr>\n",
       "    <tr>\n",
       "      <th>20</th>\n",
       "      <td>21</td>\n",
       "      <td>4</td>\n",
       "    </tr>\n",
       "    <tr>\n",
       "      <th>21</th>\n",
       "      <td>22</td>\n",
       "      <td>2</td>\n",
       "    </tr>\n",
       "    <tr>\n",
       "      <th>22</th>\n",
       "      <td>23</td>\n",
       "      <td>3</td>\n",
       "    </tr>\n",
       "    <tr>\n",
       "      <th>23</th>\n",
       "      <td>24</td>\n",
       "      <td>1</td>\n",
       "    </tr>\n",
       "    <tr>\n",
       "      <th>24</th>\n",
       "      <td>25</td>\n",
       "      <td>5</td>\n",
       "    </tr>\n",
       "    <tr>\n",
       "      <th>25</th>\n",
       "      <td>26</td>\n",
       "      <td>5</td>\n",
       "    </tr>\n",
       "    <tr>\n",
       "      <th>26</th>\n",
       "      <td>27</td>\n",
       "      <td>4</td>\n",
       "    </tr>\n",
       "    <tr>\n",
       "      <th>27</th>\n",
       "      <td>28</td>\n",
       "      <td>2</td>\n",
       "    </tr>\n",
       "    <tr>\n",
       "      <th>28</th>\n",
       "      <td>29</td>\n",
       "      <td>5</td>\n",
       "    </tr>\n",
       "    <tr>\n",
       "      <th>29</th>\n",
       "      <td>30</td>\n",
       "      <td>2</td>\n",
       "    </tr>\n",
       "    <tr>\n",
       "      <th>30</th>\n",
       "      <td>31</td>\n",
       "      <td>5</td>\n",
       "    </tr>\n",
       "    <tr>\n",
       "      <th>31</th>\n",
       "      <td>32</td>\n",
       "      <td>5</td>\n",
       "    </tr>\n",
       "    <tr>\n",
       "      <th>32</th>\n",
       "      <td>33</td>\n",
       "      <td>3</td>\n",
       "    </tr>\n",
       "    <tr>\n",
       "      <th>33</th>\n",
       "      <td>34</td>\n",
       "      <td>1</td>\n",
       "    </tr>\n",
       "    <tr>\n",
       "      <th>34</th>\n",
       "      <td>35</td>\n",
       "      <td>5</td>\n",
       "    </tr>\n",
       "    <tr>\n",
       "      <th>35</th>\n",
       "      <td>36</td>\n",
       "      <td>4</td>\n",
       "    </tr>\n",
       "  </tbody>\n",
       "</table>\n",
       "</div>"
      ],
      "text/plain": [
       "    Id  Answer\n",
       "0    1       4\n",
       "1    2       2\n",
       "2    3       3\n",
       "3    4       2\n",
       "4    5       1\n",
       "5    6       5\n",
       "6    7       2\n",
       "7    8       1\n",
       "8    9       4\n",
       "9   10       5\n",
       "10  11       3\n",
       "11  12       1\n",
       "12  13       3\n",
       "13  14       4\n",
       "14  15       5\n",
       "15  16       1\n",
       "16  17       3\n",
       "17  18       3\n",
       "18  19       2\n",
       "19  20       1\n",
       "20  21       4\n",
       "21  22       2\n",
       "22  23       3\n",
       "23  24       1\n",
       "24  25       5\n",
       "25  26       5\n",
       "26  27       4\n",
       "27  28       2\n",
       "28  29       5\n",
       "29  30       2\n",
       "30  31       5\n",
       "31  32       5\n",
       "32  33       3\n",
       "33  34       1\n",
       "34  35       5\n",
       "35  36       4"
      ]
     },
     "execution_count": 83,
     "metadata": {},
     "output_type": "execute_result"
    }
   ],
   "source": [
    "pd.DataFrame({'Id': range(1, len(answer_ls)+1),\n",
    "              'Answer': answer_ls}, columns=['Id', 'Answer'])"
   ]
  }
 ],
 "metadata": {
  "kernelspec": {
   "display_name": "Python 3",
   "language": "python",
   "name": "python3"
  },
  "language_info": {
   "codemirror_mode": {
    "name": "ipython",
    "version": 3
   },
   "file_extension": ".py",
   "mimetype": "text/x-python",
   "name": "python",
   "nbconvert_exporter": "python",
   "pygments_lexer": "ipython3",
   "version": "3.7.6"
  },
  "toc": {
   "base_numbering": "2",
   "nav_menu": {},
   "number_sections": false,
   "sideBar": true,
   "skip_h1_title": false,
   "title_cell": "Table of Contents",
   "title_sidebar": "Contents",
   "toc_cell": false,
   "toc_position": {},
   "toc_section_display": true,
   "toc_window_display": true
  }
 },
 "nbformat": 4,
 "nbformat_minor": 4
}
