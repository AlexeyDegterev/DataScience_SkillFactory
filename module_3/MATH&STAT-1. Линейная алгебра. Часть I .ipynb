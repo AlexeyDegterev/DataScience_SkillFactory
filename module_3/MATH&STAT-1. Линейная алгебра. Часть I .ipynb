{
 "cells": [
  {
   "cell_type": "code",
   "execution_count": 4,
   "metadata": {},
   "outputs": [],
   "source": [
    "from pprint import pprint"
   ]
  },
  {
   "cell_type": "code",
   "execution_count": 1,
   "metadata": {},
   "outputs": [],
   "source": [
    "import numpy as np\n",
    "\n",
    "Husband_Income = np.array([100,220,140])\n",
    "Wife_Income = np.array([150,200,130])\n",
    "Mother_In_Law_Income = np.array([90,80,100])\n",
    "\n",
    "Husband_Сonsumption = np.array([50,50,60])\n",
    "Wife_Сonsumption = np.array([100,80,140])\n",
    "Mother_In_Law_Сonsumption = np.array([100,20,140])"
   ]
  },
  {
   "cell_type": "code",
   "execution_count": 7,
   "metadata": {},
   "outputs": [
    {
     "name": "stdout",
     "output_type": "stream",
     "text": [
      "array([[100, 150,  90],\n",
      "       [220, 200,  80],\n",
      "       [140, 130, 100]])\n"
     ]
    }
   ],
   "source": [
    "#1.10.1\n",
    "inc = np.array([Husband_Income, Wife_Income, Mother_In_Law_Income])\n",
    "inc=inc.T\n",
    "pprint(inc)"
   ]
  },
  {
   "cell_type": "code",
   "execution_count": 8,
   "metadata": {},
   "outputs": [
    {
     "name": "stdout",
     "output_type": "stream",
     "text": [
      "array([[ 50, 100, 100],\n",
      "       [ 50,  80,  20],\n",
      "       [ 60, 140, 140]])\n"
     ]
    }
   ],
   "source": [
    "#1.10.2\n",
    "cons = np.array([Husband_Сonsumption, Wife_Сonsumption, Mother_In_Law_Сonsumption])\n",
    "cons = cons.T\n",
    "pprint(cons)"
   ]
  },
  {
   "cell_type": "code",
   "execution_count": 9,
   "metadata": {},
   "outputs": [
    {
     "name": "stdout",
     "output_type": "stream",
     "text": [
      "array([[ 87. , 130.5,  78.3],\n",
      "       [191.4, 174. ,  69.6],\n",
      "       [121.8, 113.1,  87. ]])\n"
     ]
    }
   ],
   "source": [
    "#1.10.3\n",
    "pprint(inc*0.87)"
   ]
  },
  {
   "cell_type": "code",
   "execution_count": 12,
   "metadata": {},
   "outputs": [
    {
     "name": "stdout",
     "output_type": "stream",
     "text": [
      "array([[ 37. ,  30.5, -21.7],\n",
      "       [141.4,  94. ,  49.6],\n",
      "       [ 61.8, -26.9, -53. ]])\n"
     ]
    }
   ],
   "source": [
    "#1.10.4\n",
    "P = inc*0.87 - cons\n",
    "pprint(P)"
   ]
  },
  {
   "cell_type": "code",
   "execution_count": null,
   "metadata": {},
   "outputs": [],
   "source": []
  }
 ],
 "metadata": {
  "kernelspec": {
   "display_name": "Python 3",
   "language": "python",
   "name": "python3"
  },
  "language_info": {
   "codemirror_mode": {
    "name": "ipython",
    "version": 3
   },
   "file_extension": ".py",
   "mimetype": "text/x-python",
   "name": "python",
   "nbconvert_exporter": "python",
   "pygments_lexer": "ipython3",
   "version": "3.7.6"
  }
 },
 "nbformat": 4,
 "nbformat_minor": 4
}
