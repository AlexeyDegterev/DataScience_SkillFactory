{
 "cells": [
  {
   "cell_type": "markdown",
   "metadata": {},
   "source": [
    "# Проект по юниту 0. Угадай число! Реализация алгоритма поиска случайного загаданного числа за минимальное количество попыток"
   ]
  },
  {
   "cell_type": "markdown",
   "metadata": {},
   "source": [
    "1. Импортируем необходимые библиотеки"
   ]
  },
  {
   "cell_type": "code",
   "execution_count": 1,
   "metadata": {},
   "outputs": [],
   "source": [
    "import numpy as np"
   ]
  },
  {
   "cell_type": "markdown",
   "metadata": {},
   "source": [
    "2. Реализация текстового интерфейса игры для возможности пользователю попробовать угадать загаданное число"
   ]
  },
  {
   "cell_type": "code",
   "execution_count": 2,
   "metadata": {},
   "outputs": [
    {
     "name": "stdout",
     "output_type": "stream",
     "text": [
      "Загадано число от 1 до 99\n",
      "55\n",
      "Угадываемое число больше 55 \n",
      "70\n",
      "Угадываемое число больше 70 \n",
      "80\n",
      "Угадываемое число меньше 80 \n",
      "74\n",
      "Угадываемое число больше 74 \n",
      "76\n",
      "Угадываемое число больше 76 \n",
      "77\n",
      "Угадываемое число больше 77 \n",
      "78\n",
      "Угадываемое число больше 78 \n",
      "79\n",
      "Вы угадали число 79 за 8 попыток.\n"
     ]
    }
   ],
   "source": [
    "count = 0                            # счетчик попыток\n",
    "number = np.random.randint(1, 100)    # загадали число\n",
    "print(\"Загадано число от 1 до 99\")\n",
    "\n",
    "while True:                        # бесконечный цикл\n",
    "    predict = int(input())         # предполагаемое число\n",
    "    count += 1                     # плюсуем попытку\n",
    "    if number == predict:\n",
    "        break    # выход из цикла, если угадали\n",
    "    elif number > predict:\n",
    "        print(f\"Угадываемое число больше {predict} \")\n",
    "    elif number < predict:\n",
    "        print(f\"Угадываемое число меньше {predict} \")\n",
    "\n",
    "print(f\"Вы угадали число {number} за {count} попыток.\")"
   ]
  },
  {
   "cell_type": "markdown",
   "metadata": {},
   "source": [
    "3. Реализация алгоритма последовательного поиска"
   ]
  },
  {
   "cell_type": "code",
   "execution_count": 3,
   "metadata": {},
   "outputs": [
    {
     "name": "stdout",
     "output_type": "stream",
     "text": [
      "Загадано число от 1 до 99\n",
      "Вы угадали число 62 за 62 попыток.\n"
     ]
    }
   ],
   "source": [
    "number = np.random.randint(1, 100)    # загадали число\n",
    "print(\"Загадано число от 1 до 99\")\n",
    "for count in range(1, 100):         # более компактный вариант счетчика\n",
    "    if number == count:\n",
    "        break    # выход из цикла, если угадали\n",
    "print(f\"Вы угадали число {number} за {count} попыток.\")"
   ]
  },
  {
   "cell_type": "markdown",
   "metadata": {},
   "source": [
    "4. Реализация различных алгоритмов поиска, а также функции подсчета статистики работы выбранного алгоритма"
   ]
  },
  {
   "cell_type": "code",
   "execution_count": 4,
   "metadata": {},
   "outputs": [],
   "source": [
    "def game_core_v1(number):\n",
    "    '''Просто угадываем перебором никак не используя информацию о больше или меньше.\n",
    "       Функция Принимает загаданное число и возвращает число попыток'''\n",
    "    count = 0\n",
    "    while True:\n",
    "        if number == count:\n",
    "            return(count)  # выход из цикла, если угадали\n",
    "        count += 1\n",
    "\n",
    "\n",
    "def score_game(game_core_v1):\n",
    "    '''Запускаем игру 1000 раз, чтоб узнать как быстро игра угадывает число'''\n",
    "    count_ls = []\n",
    "    # фиксируем RANDOM SEED, чтобы ваш эксперимент был воспроизводим!\n",
    "    np.random.seed(1)\n",
    "    random_array = np.random.randint(100, size=(1000))\n",
    "    for number in random_array:\n",
    "        count_ls.append(game_core_v1(number))\n",
    "    score = int(np.mean(count_ls))\n",
    "    print(f\"Ваш алгоритм угадывает число в среднем за {score} попыток\")\n",
    "    return(score)"
   ]
  },
  {
   "cell_type": "code",
   "execution_count": 5,
   "metadata": {},
   "outputs": [
    {
     "name": "stdout",
     "output_type": "stream",
     "text": [
      "Ваш алгоритм угадывает число в среднем за 49 попыток\n"
     ]
    },
    {
     "data": {
      "text/plain": [
       "49"
      ]
     },
     "execution_count": 5,
     "metadata": {},
     "output_type": "execute_result"
    }
   ],
   "source": [
    "score_game(game_core_v1)"
   ]
  },
  {
   "cell_type": "code",
   "execution_count": 6,
   "metadata": {},
   "outputs": [],
   "source": [
    "def game_core_v2(number):\n",
    "    '''Сначала устанавливаем любое random число, а потом уменьшаем или увеличиваем его в зависимости от того, больше\n",
    "    оно или меньше нужного. Функция принимает загаданное число и возвращает число попыток'''\n",
    "    count = 0\n",
    "    predict = np.random.randint(1, 100)\n",
    "    while number != predict:\n",
    "        count += 1\n",
    "        if number > predict:\n",
    "            predict += 1\n",
    "        elif number < predict:\n",
    "            predict -= 1\n",
    "    return(count)  # выход из цикла, если угадали"
   ]
  },
  {
   "cell_type": "code",
   "execution_count": 7,
   "metadata": {},
   "outputs": [
    {
     "name": "stdout",
     "output_type": "stream",
     "text": [
      "Ваш алгоритм угадывает число в среднем за 30 попыток\n"
     ]
    },
    {
     "data": {
      "text/plain": [
       "30"
      ]
     },
     "execution_count": 7,
     "metadata": {},
     "output_type": "execute_result"
    }
   ],
   "source": [
    "# Проверяем\n",
    "score_game(game_core_v2)"
   ]
  },
  {
   "cell_type": "code",
   "execution_count": 8,
   "metadata": {},
   "outputs": [],
   "source": [
    "def game_core_v3(number):\n",
    "    \"\"\"Бинарный поиск загаданного числа. На каждом шаге в качестве предположения используется\n",
    "    середина диапазона возможных значений. После указания, что угадываемое число больше или меньше\n",
    "    предложенного, следующий диапазон возможных значений получается в 2 раза меньше диапазона на \n",
    "    прошлом шаге.\n",
    "\n",
    "    Функция принимает загаданное число и возвращает число попыток.  \"\"\"\n",
    "    count = 0\n",
    "    possible_range = [0, 100]\n",
    "    def get_new_predict(range_list): return int(sum(range_list)/2)\n",
    "    predict = get_new_predict(possible_range)\n",
    "    while number != predict:\n",
    "        count += 1\n",
    "        if number > predict:\n",
    "            possible_range[0] = predict\n",
    "            predict = get_new_predict(possible_range)\n",
    "        else:\n",
    "            possible_range[1] = predict\n",
    "            predict = get_new_predict(possible_range)\n",
    "    return count"
   ]
  },
  {
   "cell_type": "code",
   "execution_count": 9,
   "metadata": {},
   "outputs": [
    {
     "name": "stdout",
     "output_type": "stream",
     "text": [
      "Ваш алгоритм угадывает число в среднем за 4 попыток\n"
     ]
    },
    {
     "data": {
      "text/plain": [
       "4"
      ]
     },
     "execution_count": 9,
     "metadata": {},
     "output_type": "execute_result"
    }
   ],
   "source": [
    "score_game(game_core_v3)"
   ]
  },
  {
   "cell_type": "code",
   "execution_count": 10,
   "metadata": {},
   "outputs": [],
   "source": [
    "def game_core_v4(number):\n",
    "    \"\"\"Тот же бинарный поиск, что и в версии 3. Но в данной реализации постарался сделать минимальным\n",
    "    количеством строк кода.\n",
    "    Функция принимает загаданное число и возвращает число попыток\"\"\"\n",
    "    count, possible_range = 0, [0, 100]\n",
    "    def get_new_predict(range_list): return int(sum(range_list)/2)\n",
    "    def more_flag(x): return 1 if number > x else 0\n",
    "    predict = get_new_predict(possible_range)\n",
    "    while number != predict:\n",
    "        possible_range[0] = possible_range[0] * \\\n",
    "            (1-more_flag(predict)) + more_flag(predict)*predict\n",
    "        possible_range[1] = possible_range[1] * \\\n",
    "            more_flag(predict) + (1-more_flag(predict))*predict\n",
    "        predict = get_new_predict(possible_range)\n",
    "        count += 1\n",
    "    return count"
   ]
  },
  {
   "cell_type": "code",
   "execution_count": 11,
   "metadata": {},
   "outputs": [
    {
     "name": "stdout",
     "output_type": "stream",
     "text": [
      "Ваш алгоритм угадывает число в среднем за 4 попыток\n"
     ]
    },
    {
     "data": {
      "text/plain": [
       "4"
      ]
     },
     "execution_count": 11,
     "metadata": {},
     "output_type": "execute_result"
    }
   ],
   "source": [
    "score_game(game_core_v4)"
   ]
  }
 ],
 "metadata": {
  "kernelspec": {
   "display_name": "Python 3",
   "language": "python",
   "name": "python3"
  },
  "language_info": {
   "codemirror_mode": {
    "name": "ipython",
    "version": 3
   },
   "file_extension": ".py",
   "mimetype": "text/x-python",
   "name": "python",
   "nbconvert_exporter": "python",
   "pygments_lexer": "ipython3",
   "version": "3.7.6"
  },
  "toc": {
   "base_numbering": 1,
   "nav_menu": {},
   "number_sections": true,
   "sideBar": true,
   "skip_h1_title": false,
   "title_cell": "Table of Contents",
   "title_sidebar": "Contents",
   "toc_cell": false,
   "toc_position": {},
   "toc_section_display": true,
   "toc_window_display": false
  }
 },
 "nbformat": 4,
 "nbformat_minor": 4
}
